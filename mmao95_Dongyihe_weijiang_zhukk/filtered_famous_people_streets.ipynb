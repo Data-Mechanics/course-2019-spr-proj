{
 "cells": [
  {
   "cell_type": "code",
   "execution_count": 2,
   "metadata": {},
   "outputs": [],
   "source": [
    "import requests\n",
    "import json\n",
    "import dml\n",
    "import prov.model\n",
    "import datetime\n",
    "import uuid\n",
    "import itertools"
   ]
  },
  {
   "cell_type": "code",
   "execution_count": 3,
   "metadata": {},
   "outputs": [],
   "source": [
    "contributor = 'mmao95_Dongyihe_weijiang_zhukk'\n",
    "reads = [contributor + '.famous_people', contributor + '.street_book']\n",
    "writes = [contributor + '.filtered_famous_people_streets']"
   ]
  },
  {
   "cell_type": "markdown",
   "metadata": {},
   "source": [
    "## exec"
   ]
  },
  {
   "cell_type": "code",
   "execution_count": 4,
   "metadata": {},
   "outputs": [
    {
     "data": {
      "text/plain": [
       "True"
      ]
     },
     "execution_count": 4,
     "metadata": {},
     "output_type": "execute_result"
    }
   ],
   "source": [
    "startTime = datetime.datetime.now()\n",
    "\n",
    "# Set up the database connection.\n",
    "client = dml.pymongo.MongoClient()\n",
    "repo = client.repo\n",
    "repo.authenticate(contributor, contributor)"
   ]
  },
  {
   "cell_type": "code",
   "execution_count": 5,
   "metadata": {},
   "outputs": [
    {
     "name": "stdout",
     "output_type": "stream",
     "text": [
      "230\n",
      "60444\n"
     ]
    }
   ],
   "source": [
    "famous_people = repo[reads[0]]\n",
    "street_book = repo[reads[1]]\n",
    "print(famous_people.count_documents({}))\n",
    "print(street_book.count_documents({}))"
   ]
  },
  {
   "cell_type": "code",
   "execution_count": 6,
   "metadata": {},
   "outputs": [
    {
     "data": {
      "text/plain": [
       "<pymongo.cursor.Cursor at 0x7f2eadf1bef0>"
      ]
     },
     "execution_count": 6,
     "metadata": {},
     "output_type": "execute_result"
    }
   ],
   "source": [
    "fp = list(set(itertools.chain(*{(str(n['first_name'])+' ', str(n['last_name'])+' ') for n in famous_people.find()})))\n",
    "sb = street_book.find({'Street Name': {'$nin': fp}})\n",
    "sb"
   ]
  },
  {
   "cell_type": "code",
   "execution_count": 7,
   "metadata": {},
   "outputs": [],
   "source": [
    "sb = list(sb)"
   ]
  },
  {
   "cell_type": "code",
   "execution_count": 8,
   "metadata": {
    "scrolled": true
   },
   "outputs": [
    {
     "data": {
      "text/plain": [
       "<pymongo.results.InsertManyResult at 0x7f2e93eb0e88>"
      ]
     },
     "execution_count": 8,
     "metadata": {},
     "output_type": "execute_result"
    }
   ],
   "source": [
    "repo.dropCollection('filtered_famous_people_streets')\n",
    "repo.createCollection('filtered_famous_people_streets')\n",
    "repo[writes[0]].insert_many(sb)"
   ]
  },
  {
   "cell_type": "code",
   "execution_count": 9,
   "metadata": {},
   "outputs": [
    {
     "name": "stderr",
     "output_type": "stream",
     "text": [
      "/home/dongguho/anaconda3/lib/python3.7/site-packages/ipykernel_launcher.py:1: DeprecationWarning: Database.logout() is deprecated\n",
      "  \"\"\"Entry point for launching an IPython kernel.\n"
     ]
    },
    {
     "data": {
      "text/plain": [
       "{'start': datetime.datetime(2019, 4, 3, 0, 37, 20, 444732),\n",
       " 'end': datetime.datetime(2019, 4, 3, 0, 37, 52, 188204)}"
      ]
     },
     "execution_count": 9,
     "metadata": {},
     "output_type": "execute_result"
    }
   ],
   "source": [
    "repo.logout()\n",
    "endTime = datetime.datetime.now()\n",
    "{\"start\":startTime, \"end\":endTime}"
   ]
  },
  {
   "cell_type": "markdown",
   "metadata": {},
   "source": [
    "## prov"
   ]
  },
  {
   "cell_type": "code",
   "execution_count": 16,
   "metadata": {},
   "outputs": [
    {
     "name": "stderr",
     "output_type": "stream",
     "text": [
      "/anaconda3/lib/python3.6/site-packages/ipykernel_launcher.py:35: DeprecationWarning: Database.logout() is deprecated\n"
     ]
    },
    {
     "data": {
      "text/plain": [
       "<ProvDocument>"
      ]
     },
     "execution_count": 16,
     "metadata": {},
     "output_type": "execute_result"
    }
   ],
   "source": [
    "doc = prov.model.ProvDocument()\n",
    "startTime = None\n",
    "endTime = None\n",
    "client = dml.pymongo.MongoClient()\n",
    "repo = client.repo\n",
    "repo.authenticate(contributor, contributor)\n",
    "\n",
    "doc.add_namespace('alg', 'http://datamechanics.io/algorithm/') # The scripts are in <folder>#<filename> format.\n",
    "doc.add_namespace('dat', 'http://datamechanics.io/data/') # The data sets are in <user>#<collection> format.\n",
    "doc.add_namespace('ont', 'http://datamechanics.io/ontology#') # 'Extension', 'DataResource', 'DataSet', 'Retrieval', 'Query', or 'Computation'.\n",
    "doc.add_namespace('log', 'http://datamechanics.io/log/') # The event log.\n",
    "doc.add_namespace('bdp', 'https://www.50states.com/bio/mass.htm')\n",
    "\n",
    "this_script = doc.agent('alg:'+contributor+'#filtered_famous_people_streets', {prov.model.PROV_TYPE:prov.model.PROV['SoftwareAgent'], 'ont:Extension':'py'})\n",
    "res_fp = doc.entity('bdp:fp', {'prov:label':'Famous People in MA', prov.model.PROV_TYPE:'ont:DataResource', 'ont:Extension':'json'})\n",
    "res_sb = doc.entity('bdp:sb', {'prov:label':'Street Book', prov.model.PROV_TYPE:'ont:DataResource', 'ont:Extension':'json'})\n",
    "filter_names = doc.activity('log:uuid'+str(uuid.uuid4()), startTime, endTime)\n",
    "doc.wasAssociatedWith(filter_names, this_script)\n",
    "doc.usage(filter_names, res_fp, startTime, None,\n",
    "    {prov.model.PROV_TYPE: 'ont:Computation',\n",
    "    'ont:Computation':'Selection, Differentiate'\n",
    "    }\n",
    ")\n",
    "doc.usage(filter_names, res_sb, startTime, None,\n",
    "    {prov.model.PROV_TYPE: 'ont:Computation',\n",
    "    'ont:Computation':'Selection, Differentiate'\n",
    "    }\n",
    ")\n",
    "result = doc.entity('dat:'+contributor+'#filtered_famous_people_streets', {prov.model.PROV_LABEL:'Streets without Famous People', prov.model.PROV_TYPE:'ont:DataSet'})\n",
    "doc.wasAttributedTo(result, this_script)\n",
    "doc.wasGeneratedBy(result, filter_names, endTime)\n",
    "doc.wasDerivedFrom(result, res_fp, filter_names, filter_names, filter_names)\n",
    "doc.wasDerivedFrom(result, res_sb, filter_names, filter_names, filter_names)\n",
    "\n",
    "repo.logout()\n",
    "doc"
   ]
  },
  {
   "cell_type": "code",
   "execution_count": 17,
   "metadata": {},
   "outputs": [
    {
     "name": "stdout",
     "output_type": "stream",
     "text": [
      "document\n",
      "  prefix alg <http://datamechanics.io/algorithm/>\n",
      "  prefix dat <http://datamechanics.io/data/>\n",
      "  prefix ont <http://datamechanics.io/ontology#>\n",
      "  prefix log <http://datamechanics.io/log/>\n",
      "  prefix bdp <https://www.50states.com/bio/mass.htm>\n",
      "  \n",
      "  agent(alg:mmao95_Dongyihe_weijiang_zhukk#filtered_famous_people_streets, [prov:type='prov:SoftwareAgent', ont:Extension=\"py\"])\n",
      "  entity(bdp:fp, [prov:label=\"Famous People in MA\", prov:type=\"ont:DataResource\", ont:Extension=\"json\"])\n",
      "  entity(bdp:sb, [prov:label=\"Street Book\", prov:type=\"ont:DataResource\", ont:Extension=\"json\"])\n",
      "  activity(log:uuida4d249cb-3829-4884-b1b2-b0262cb0e6d3, -, -)\n",
      "  wasAssociatedWith(log:uuida4d249cb-3829-4884-b1b2-b0262cb0e6d3, alg:mmao95_Dongyihe_weijiang_zhukk#filtered_famous_people_streets, -)\n",
      "  used(log:uuida4d249cb-3829-4884-b1b2-b0262cb0e6d3, bdp:fp, -, [prov:type=\"ont:Computation\", ont:Computation=\"Selection, Differentiate\"])\n",
      "  used(log:uuida4d249cb-3829-4884-b1b2-b0262cb0e6d3, bdp:sb, -, [prov:type=\"ont:Computation\", ont:Computation=\"Selection, Differentiate\"])\n",
      "  entity(dat:mmao95_Dongyihe_weijiang_zhukk#filtered_famous_people_streets, [prov:label=\"Streets without Famous People\", prov:type=\"ont:DataSet\"])\n",
      "  wasAttributedTo(dat:mmao95_Dongyihe_weijiang_zhukk#filtered_famous_people_streets, alg:mmao95_Dongyihe_weijiang_zhukk#filtered_famous_people_streets)\n",
      "  wasGeneratedBy(dat:mmao95_Dongyihe_weijiang_zhukk#filtered_famous_people_streets, log:uuida4d249cb-3829-4884-b1b2-b0262cb0e6d3, -)\n",
      "  wasDerivedFrom(dat:mmao95_Dongyihe_weijiang_zhukk#filtered_famous_people_streets, bdp:fp, log:uuida4d249cb-3829-4884-b1b2-b0262cb0e6d3, log:uuida4d249cb-3829-4884-b1b2-b0262cb0e6d3, log:uuida4d249cb-3829-4884-b1b2-b0262cb0e6d3)\n",
      "  wasDerivedFrom(dat:mmao95_Dongyihe_weijiang_zhukk#filtered_famous_people_streets, bdp:sb, log:uuida4d249cb-3829-4884-b1b2-b0262cb0e6d3, log:uuida4d249cb-3829-4884-b1b2-b0262cb0e6d3, log:uuida4d249cb-3829-4884-b1b2-b0262cb0e6d3)\n",
      "endDocument\n",
      "{\n",
      "    \"prefix\": {\n",
      "        \"alg\": \"http://datamechanics.io/algorithm/\",\n",
      "        \"dat\": \"http://datamechanics.io/data/\",\n",
      "        \"ont\": \"http://datamechanics.io/ontology#\",\n",
      "        \"log\": \"http://datamechanics.io/log/\",\n",
      "        \"bdp\": \"https://www.50states.com/bio/mass.htm\"\n",
      "    },\n",
      "    \"agent\": {\n",
      "        \"alg:mmao95_Dongyihe_weijiang_zhukk#filtered_famous_people_streets\": {\n",
      "            \"prov:type\": {\n",
      "                \"$\": \"prov:SoftwareAgent\",\n",
      "                \"type\": \"prov:QUALIFIED_NAME\"\n",
      "            },\n",
      "            \"ont:Extension\": \"py\"\n",
      "        }\n",
      "    },\n",
      "    \"entity\": {\n",
      "        \"bdp:fp\": {\n",
      "            \"prov:label\": \"Famous People in MA\",\n",
      "            \"prov:type\": \"ont:DataResource\",\n",
      "            \"ont:Extension\": \"json\"\n",
      "        },\n",
      "        \"bdp:sb\": {\n",
      "            \"prov:label\": \"Street Book\",\n",
      "            \"prov:type\": \"ont:DataResource\",\n",
      "            \"ont:Extension\": \"json\"\n",
      "        },\n",
      "        \"dat:mmao95_Dongyihe_weijiang_zhukk#filtered_famous_people_streets\": {\n",
      "            \"prov:label\": \"Streets without Famous People\",\n",
      "            \"prov:type\": \"ont:DataSet\"\n",
      "        }\n",
      "    },\n",
      "    \"activity\": {\n",
      "        \"log:uuida4d249cb-3829-4884-b1b2-b0262cb0e6d3\": {}\n",
      "    },\n",
      "    \"wasAssociatedWith\": {\n",
      "        \"_:id1\": {\n",
      "            \"prov:activity\": \"log:uuida4d249cb-3829-4884-b1b2-b0262cb0e6d3\",\n",
      "            \"prov:agent\": \"alg:mmao95_Dongyihe_weijiang_zhukk#filtered_famous_people_streets\"\n",
      "        }\n",
      "    },\n",
      "    \"used\": {\n",
      "        \"_:id2\": {\n",
      "            \"prov:activity\": \"log:uuida4d249cb-3829-4884-b1b2-b0262cb0e6d3\",\n",
      "            \"prov:entity\": \"bdp:fp\",\n",
      "            \"prov:type\": \"ont:Computation\",\n",
      "            \"ont:Computation\": \"Selection, Differentiate\"\n",
      "        },\n",
      "        \"_:id3\": {\n",
      "            \"prov:activity\": \"log:uuida4d249cb-3829-4884-b1b2-b0262cb0e6d3\",\n",
      "            \"prov:entity\": \"bdp:sb\",\n",
      "            \"prov:type\": \"ont:Computation\",\n",
      "            \"ont:Computation\": \"Selection, Differentiate\"\n",
      "        }\n",
      "    },\n",
      "    \"wasAttributedTo\": {\n",
      "        \"_:id4\": {\n",
      "            \"prov:entity\": \"dat:mmao95_Dongyihe_weijiang_zhukk#filtered_famous_people_streets\",\n",
      "            \"prov:agent\": \"alg:mmao95_Dongyihe_weijiang_zhukk#filtered_famous_people_streets\"\n",
      "        }\n",
      "    },\n",
      "    \"wasGeneratedBy\": {\n",
      "        \"_:id5\": {\n",
      "            \"prov:entity\": \"dat:mmao95_Dongyihe_weijiang_zhukk#filtered_famous_people_streets\",\n",
      "            \"prov:activity\": \"log:uuida4d249cb-3829-4884-b1b2-b0262cb0e6d3\"\n",
      "        }\n",
      "    },\n",
      "    \"wasDerivedFrom\": {\n",
      "        \"_:id6\": {\n",
      "            \"prov:generatedEntity\": \"dat:mmao95_Dongyihe_weijiang_zhukk#filtered_famous_people_streets\",\n",
      "            \"prov:usedEntity\": \"bdp:fp\",\n",
      "            \"prov:activity\": \"log:uuida4d249cb-3829-4884-b1b2-b0262cb0e6d3\",\n",
      "            \"prov:generation\": \"log:uuida4d249cb-3829-4884-b1b2-b0262cb0e6d3\",\n",
      "            \"prov:usage\": \"log:uuida4d249cb-3829-4884-b1b2-b0262cb0e6d3\"\n",
      "        },\n",
      "        \"_:id7\": {\n",
      "            \"prov:generatedEntity\": \"dat:mmao95_Dongyihe_weijiang_zhukk#filtered_famous_people_streets\",\n",
      "            \"prov:usedEntity\": \"bdp:sb\",\n",
      "            \"prov:activity\": \"log:uuida4d249cb-3829-4884-b1b2-b0262cb0e6d3\",\n",
      "            \"prov:generation\": \"log:uuida4d249cb-3829-4884-b1b2-b0262cb0e6d3\",\n",
      "            \"prov:usage\": \"log:uuida4d249cb-3829-4884-b1b2-b0262cb0e6d3\"\n",
      "        }\n",
      "    }\n",
      "}\n"
     ]
    }
   ],
   "source": [
    "print(doc.get_provn())\n",
    "print(json.dumps(json.loads(doc.serialize()), indent=4))"
   ]
  },
  {
   "cell_type": "code",
   "execution_count": null,
   "metadata": {},
   "outputs": [],
   "source": []
  },
  {
   "cell_type": "code",
   "execution_count": null,
   "metadata": {},
   "outputs": [],
   "source": []
  }
 ],
 "metadata": {
  "kernelspec": {
   "display_name": "Python 3",
   "language": "python",
   "name": "python3"
  },
  "language_info": {
   "codemirror_mode": {
    "name": "ipython",
    "version": 3
   },
   "file_extension": ".py",
   "mimetype": "text/x-python",
   "name": "python",
   "nbconvert_exporter": "python",
   "pygments_lexer": "ipython3",
   "version": "3.6.8"
  }
 },
 "nbformat": 4,
 "nbformat_minor": 2
}
