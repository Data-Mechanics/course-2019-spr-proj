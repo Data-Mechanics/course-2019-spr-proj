{
 "cells": [
  {
   "cell_type": "code",
   "execution_count": 237,
   "metadata": {
    "ExecuteTime": {
     "end_time": "2019-04-30T16:40:53.210889Z",
     "start_time": "2019-04-30T16:40:53.207121Z"
    }
   },
   "outputs": [],
   "source": [
    "import pandas as pd\n",
    "import os"
   ]
  },
  {
   "cell_type": "code",
   "execution_count": 238,
   "metadata": {
    "ExecuteTime": {
     "end_time": "2019-04-30T16:40:53.241675Z",
     "start_time": "2019-04-30T16:40:53.214034Z"
    }
   },
   "outputs": [],
   "source": [
    "xls = pd.ExcelFile('504_Spark_Project_Part 1.xlsx')"
   ]
  },
  {
   "cell_type": "code",
   "execution_count": 239,
   "metadata": {
    "ExecuteTime": {
     "end_time": "2019-04-30T16:40:53.248803Z",
     "start_time": "2019-04-30T16:40:53.243744Z"
    }
   },
   "outputs": [],
   "source": [
    "role = ['President','Senate','Governor','Lieutenant_Governor','Treasurer','Auditor']"
   ]
  },
  {
   "cell_type": "code",
   "execution_count": 240,
   "metadata": {
    "ExecuteTime": {
     "end_time": "2019-04-30T16:40:53.286322Z",
     "start_time": "2019-04-30T16:40:53.254299Z"
    }
   },
   "outputs": [],
   "source": [
    "for each in role:\n",
    "    globals()['score_{}'.format(each)] = pd.read_excel(xls, each)"
   ]
  },
  {
   "cell_type": "code",
   "execution_count": 241,
   "metadata": {
    "ExecuteTime": {
     "end_time": "2019-04-30T16:40:53.380426Z",
     "start_time": "2019-04-30T16:40:53.289160Z"
    }
   },
   "outputs": [],
   "source": [
    "csv_name = list(os.walk('/Users/chuci/Desktop/cs504/spark/vote'))[0][2]\n",
    "df_name =[]\n",
    "for each in csv_name:\n",
    "    name = each.split('_')\n",
    "    name = '{}_{}_{}'.format(name[3],name[4],name[2])\n",
    "    df_name.append(name)\n",
    "    globals()[name] = pd.read_csv('vote/{}'.format(each))"
   ]
  },
  {
   "cell_type": "code",
   "execution_count": 243,
   "metadata": {
    "ExecuteTime": {
     "end_time": "2019-04-30T16:40:53.408300Z",
     "start_time": "2019-04-30T16:40:53.389700Z"
    },
    "scrolled": true
   },
   "outputs": [],
   "source": [
    "for each in df_name:\n",
    "    col_name = globals()[each].columns\n",
    "    modify_name = []\n",
    "    for name in col_name:\n",
    "        if '/' in name:\n",
    "            modify_name.append(name)\n",
    "    dic = {}\n",
    "    for name in modify_name:\n",
    "        dic[name] = name.replace('/',' and')\n",
    "    globals()[each].rename(columns=dic, inplace = True)\n",
    "    globals()[each].drop(globals()[each].shape[0]-1,inplace = True)"
   ]
  },
  {
   "cell_type": "code",
   "execution_count": 244,
   "metadata": {
    "ExecuteTime": {
     "end_time": "2019-04-30T16:40:53.415591Z",
     "start_time": "2019-04-30T16:40:53.410328Z"
    }
   },
   "outputs": [],
   "source": [
    "def get_score(x):\n",
    "    try:\n",
    "        return ((x[name1])*(score_candidate1) + (x[name2])*(score_candidate2))/((x[name1]) + (x[name2]))\n",
    "    except:\n",
    "        return 0"
   ]
  },
  {
   "cell_type": "code",
   "execution_count": 269,
   "metadata": {
    "ExecuteTime": {
     "end_time": "2019-04-30T17:49:49.226338Z",
     "start_time": "2019-04-30T17:49:48.338312Z"
    }
   },
   "outputs": [
    {
     "name": "stderr",
     "output_type": "stream",
     "text": [
      "/anaconda3/lib/python3.6/site-packages/ipykernel_launcher.py:3: RuntimeWarning: invalid value encountered in double_scalars\n",
      "  This is separate from the ipykernel package so we can avoid doing imports until\n"
     ]
    }
   ],
   "source": [
    "for each in df_name:\n",
    "    job,stage,year = each.split('_')\n",
    "    col = globals()[each].columns\n",
    "    name1 = col[3]\n",
    "    name2 = col[4]\n",
    "    area_score = globals()[each]\n",
    "    area_score['new_index'] = area_score['City andTown'] + area_score['Ward'] +  area_score['Pct']\n",
    "    area_score[name1].replace(',','',regex = True,inplace = True)\n",
    "    area_score[name1] = globals()[each][name1].astype('double')\n",
    "    area_score[name2].replace(',','',regex = True,inplace = True)\n",
    "    area_score[name2] = globals()[each][name1].astype('double')\n",
    "    score_table = globals()['score_{}'.format(job)]\n",
    "    score_candidate1 = score_table[(score_table['Name'] == name1) & (score_table['Year'] == int(year)) & (score_table['Type of Election'] == stage)]['Level of Progressive/Conservative'].iloc[0]\n",
    "    score_candidate2 = score_table[(score_table['Name'] == name2) & (score_table['Year'] == int(year)) & (score_table['Type of Election'] == stage)]['Level of Progressive/Conservative'].iloc[0]\n",
    "    area_score['area_score'] = area_score.apply(get_score,axis = 1 )\n",
    "    "
   ]
  },
  {
   "cell_type": "code",
   "execution_count": 261,
   "metadata": {
    "ExecuteTime": {
     "end_time": "2019-04-30T17:41:49.089181Z",
     "start_time": "2019-04-30T17:41:49.085796Z"
    }
   },
   "outputs": [],
   "source": [
    "catage = {}\n",
    "for name in role:\n",
    "    for each in df_name:\n",
    "        if name in each:\n",
    "            if name in catage:\n",
    "                catage[name].append(each)\n",
    "            else:\n",
    "                catage[name] = [each]"
   ]
  },
  {
   "cell_type": "code",
   "execution_count": 408,
   "metadata": {
    "ExecuteTime": {
     "end_time": "2019-04-30T20:02:06.185981Z",
     "start_time": "2019-04-30T20:02:05.994905Z"
    }
   },
   "outputs": [],
   "source": [
    "for each in role:\n",
    "    middle = globals()[df_name[0]][['Ward','new_index']]\n",
    "    count = 0\n",
    "    try:\n",
    "        for item in catage[each]:\n",
    "            middle = middle.merge(globals()[item],on = 'new_index')\n",
    "            middle.rename(columns={'area_score_x':'area_score_{}'.format(str(count)),'area_score_y':'area_score_{}'.format(str(count+1))},inplace  = True)\n",
    "            count += 1\n",
    "        middle = middle[['new_index'] + list(set(middle[[x for x in middle.columns if 'area_score' in x]]))]\n",
    "        middle['fina_score'] = middle.mean(1)\n",
    "        globals()['{}_final_score'.format(each)] = middle\n",
    "    except:\n",
    "        continue"
   ]
  },
  {
   "cell_type": "code",
   "execution_count": 413,
   "metadata": {
    "ExecuteTime": {
     "end_time": "2019-04-30T20:05:19.888586Z",
     "start_time": "2019-04-30T20:05:19.851938Z"
    }
   },
   "outputs": [],
   "source": [
    "for each in role:\n",
    "    name = '{}_final_score'.format(each)\n",
    "    try:\n",
    "        globals()[name].to_csv(name+'.csv',index = False)\n",
    "    except:\n",
    "        continue"
   ]
  }
 ],
 "metadata": {
  "hide_input": false,
  "kernelspec": {
   "display_name": "Python 3",
   "language": "python",
   "name": "python3"
  },
  "language_info": {
   "codemirror_mode": {
    "name": "ipython",
    "version": 3
   },
   "file_extension": ".py",
   "mimetype": "text/x-python",
   "name": "python",
   "nbconvert_exporter": "python",
   "pygments_lexer": "ipython3",
   "version": "3.6.7"
  }
 },
 "nbformat": 4,
 "nbformat_minor": 2
}
