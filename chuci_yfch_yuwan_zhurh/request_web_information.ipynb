{
 "cells": [
  {
   "cell_type": "code",
   "execution_count": 227,
   "metadata": {
    "ExecuteTime": {
     "end_time": "2019-04-24T05:22:50.427566Z",
     "start_time": "2019-04-24T05:22:50.424214Z"
    }
   },
   "outputs": [],
   "source": [
    "from bs4 import BeautifulSoup\n",
    "import requests as re\n",
    "import smtplib\n",
    "import pandas as pd"
   ]
  },
  {
   "cell_type": "code",
   "execution_count": 228,
   "metadata": {
    "ExecuteTime": {
     "end_time": "2019-04-24T05:22:50.782993Z",
     "start_time": "2019-04-24T05:22:50.779775Z"
    }
   },
   "outputs": [],
   "source": [
    "office_ids = [1,6,3,4,53,90]\n",
    "stage_s = ['Primaries','General']"
   ]
  },
  {
   "cell_type": "code",
   "execution_count": 229,
   "metadata": {
    "ExecuteTime": {
     "end_time": "2019-04-24T05:22:53.740107Z",
     "start_time": "2019-04-24T05:22:51.608558Z"
    }
   },
   "outputs": [
    {
     "name": "stdout",
     "output_type": "stream",
     "text": [
      "http://electionstats.state.ma.us/elections/search/year_from:2002/year_to:2016/office_id:1/stage:Primaries\n",
      "http://electionstats.state.ma.us/elections/search/year_from:2002/year_to:2016/office_id:1/stage:General\n",
      "http://electionstats.state.ma.us/elections/search/year_from:2002/year_to:2016/office_id:6/stage:Primaries\n",
      "http://electionstats.state.ma.us/elections/search/year_from:2002/year_to:2016/office_id:6/stage:General\n",
      "http://electionstats.state.ma.us/elections/search/year_from:2002/year_to:2016/office_id:3/stage:Primaries\n",
      "http://electionstats.state.ma.us/elections/search/year_from:2002/year_to:2016/office_id:3/stage:General\n",
      "http://electionstats.state.ma.us/elections/search/year_from:2002/year_to:2016/office_id:4/stage:Primaries\n",
      "http://electionstats.state.ma.us/elections/search/year_from:2002/year_to:2016/office_id:53/stage:Primaries\n",
      "http://electionstats.state.ma.us/elections/search/year_from:2002/year_to:2016/office_id:53/stage:General\n",
      "http://electionstats.state.ma.us/elections/search/year_from:2002/year_to:2016/office_id:90/stage:Primaries\n",
      "http://electionstats.state.ma.us/elections/search/year_from:2002/year_to:2016/office_id:90/stage:General\n"
     ]
    }
   ],
   "source": [
    "for office_id in office_ids:\n",
    "    for sta in stage_s:\n",
    "        if office_id == 4 and sta == 'General':\n",
    "            break\n",
    "        url1 = 'http://electionstats.state.ma.us/elections/search/year_from:2002/year_to:2016/office_id:{}/stage:{}'.format(str(office_id),sta)\n",
    "        print(url1)\n",
    "        response = re.get(url1)\n",
    "        content = response.content\n",
    "\n",
    "        soup = BeautifulSoup(content, 'html.parser')\n",
    "\n",
    "        body = soup.body\n",
    "\n",
    "        years = []\n",
    "        offices = []\n",
    "        districts = []\n",
    "        stages = []\n",
    "        candidates = []\n",
    "        elected = []\n",
    "\n",
    "        div_1 = body.find_all('div',recursive=False)[1]\n",
    "\n",
    "        div_1_1 = div_1.find_all('div',recursive=False)[1]\n",
    "\n",
    "        div_1_1_1 = div_1_1.find_all('div',recursive=False)[1]\n",
    "\n",
    "        div_0 = div_1_1_1.find_all('div',recursive=False)[0]\n",
    "        table = div_0.find_all('table',recursive=False)[0]\n",
    "\n",
    "        tbody = table.find_all('tbody',recursive=False)[0] # \n",
    "\n",
    "        for j in range(len(tbody.find_all('tr',recursive=False))):\n",
    "            infor = tbody.find_all('tr',recursive=False)[j] # all information of one row\n",
    "\n",
    "            year = infor.find_all('td',recursive=False)[0].string\n",
    "            office = infor.find_all('td',recursive=False)[1].string\n",
    "            district = infor.find_all('td',recursive=False)[2].string\n",
    "            stage = infor.find_all('td',recursive=False)[3].string\n",
    "\n",
    "            if infor.find_all('td',recursive=False)[4].find_all('div',recursive=False)[0].string == 'No Candidates':\n",
    "                candidate = 'No Candidates'\n",
    "                years.append(year)\n",
    "                offices.append(office)\n",
    "                districts.append(district)\n",
    "                stages.append(stage)\n",
    "                candidates.append(candidate)\n",
    "                elected.append('no')\n",
    "            else:\n",
    "                candidates_tbody = infor.find_all('td',recursive=False)[4].find_all('table',recursive=False)[0].find_all('tbody',recursive=False)[0]\n",
    "                for i in range(len(candidates_tbody.find_all('tr',recursive=False))):\n",
    "                    try:\n",
    "                        candidate = candidates_tbody.find_all('tr',recursive=False)[i].td.div.a.string #\n",
    "                        if candidates_tbody.find_all('tr',recursive=False)[i]['class'][-1] == 'is_winner':\n",
    "                            elected.append('yes')\n",
    "                        else:\n",
    "                            elected.append('no')\n",
    "                        years.append(year)\n",
    "                        offices.append(office)\n",
    "                        districts.append(district)\n",
    "                        stages.append(stage)\n",
    "                        candidates.append(candidate)\n",
    "                    except:\n",
    "                        break\n",
    "        dic = {\n",
    "            'year':years,\n",
    "        'office':offices,\n",
    "        'district':districts,\n",
    "        'stage':stages,\n",
    "        'candidate':candidates,\n",
    "        'elected':elected\n",
    "        }\n",
    "\n",
    "        df = pd.DataFrame(dic)\n",
    "        df['party'] = df['stage'].str.rsplit(' ',1).str[0]\n",
    "        df['stage'] = df['stage'].str.rsplit(' ',1).str[1]\n",
    "        df = df[['year', 'office', 'district', 'party','stage', 'candidate', 'elected']]\n",
    "        df.to_csv('{}_{}.csv'.format(str(office_id),sta),index=False)"
   ]
  },
  {
   "cell_type": "code",
   "execution_count": null,
   "metadata": {},
   "outputs": [],
   "source": []
  }
 ],
 "metadata": {
  "hide_input": false,
  "kernelspec": {
   "display_name": "Python 3",
   "language": "python",
   "name": "python3"
  },
  "language_info": {
   "codemirror_mode": {
    "name": "ipython",
    "version": 3
   },
   "file_extension": ".py",
   "mimetype": "text/x-python",
   "name": "python",
   "nbconvert_exporter": "python",
   "pygments_lexer": "ipython3",
   "version": "3.6.7"
  }
 },
 "nbformat": 4,
 "nbformat_minor": 2
}
