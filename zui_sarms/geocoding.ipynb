{
 "cells": [
  {
   "cell_type": "code",
   "execution_count": 1,
   "metadata": {},
   "outputs": [],
   "source": [
    "import requests"
   ]
  },
  {
   "cell_type": "code",
   "execution_count": 3,
   "metadata": {},
   "outputs": [],
   "source": [
    "import json"
   ]
  },
  {
   "cell_type": "code",
   "execution_count": 6,
   "metadata": {},
   "outputs": [],
   "source": [
    "AUTH = json.loads(open(\"../auth.json\", \"r\").read())"
   ]
  },
  {
   "cell_type": "code",
   "execution_count": 8,
   "metadata": {},
   "outputs": [],
   "source": [
    "def geocoding(address):\n",
    "    \"\"\"\n",
    "    Take in an address and return the proper address and the coordinate tuple\n",
    "    \"\"\"\n",
    "    \n",
    "    r = requests.get(f\"https://maps.googleapis.com/maps/api/geocode/json\", params={\n",
    "        \"address\": address,\n",
    "        \"key\": AUTH[\"GMAP_API\"]\n",
    "    })\n",
    "    \n",
    "    if r.status_code == 200:\n",
    "        r = r.json()\n",
    "        results = r[\"results\"]\n",
    "        if len(results) < 1:\n",
    "            log.error(\"No result geocoding for %s\", address)\n",
    "            return (-1, -1)\n",
    "        \n",
    "        result = results[0]\n",
    "        proper_address = result[\"formatted_address\"]\n",
    "        loc = result[\"geometry\"][\"location\"]\n",
    "        lat = loc[\"lat\"]\n",
    "        lng = loc[\"lng\"]\n",
    "        \n",
    "        return (proper_address, lat, lng)\n",
    "        \n",
    "    else:\n",
    "        log.error(\"Error in Geocoding %s\", address)\n",
    "        return (-1,-1)"
   ]
  },
  {
   "cell_type": "code",
   "execution_count": 9,
   "metadata": {},
   "outputs": [
    {
     "data": {
      "text/plain": [
       "('11 King St, Boston, MA 02122, USA', 42.2918562, -71.06147419999999)"
      ]
     },
     "execution_count": 9,
     "metadata": {},
     "output_type": "execute_result"
    }
   ],
   "source": [
    "geocoding(\"11 king st 02122\")"
   ]
  },
  {
   "cell_type": "code",
   "execution_count": null,
   "metadata": {},
   "outputs": [],
   "source": []
  }
 ],
 "metadata": {
  "kernelspec": {
   "display_name": "Python 3",
   "language": "python",
   "name": "python3"
  },
  "language_info": {
   "codemirror_mode": {
    "name": "ipython",
    "version": 3
   },
   "file_extension": ".py",
   "mimetype": "text/x-python",
   "name": "python",
   "nbconvert_exporter": "python",
   "pygments_lexer": "ipython3",
   "version": "3.7.1"
  }
 },
 "nbformat": 4,
 "nbformat_minor": 2
}
