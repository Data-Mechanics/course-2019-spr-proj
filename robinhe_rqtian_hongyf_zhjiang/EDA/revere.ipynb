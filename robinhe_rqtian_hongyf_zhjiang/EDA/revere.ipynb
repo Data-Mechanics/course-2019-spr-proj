{
 "cells": [
  {
   "cell_type": "code",
   "execution_count": null,
   "metadata": {},
   "outputs": [],
   "source": []
  },
  {
   "cell_type": "code",
   "execution_count": 1,
   "metadata": {},
   "outputs": [
    {
     "data": {
      "text/html": [
       "<script type=\"text/javascript\">window.PlotlyConfig = {MathJaxConfig: 'local'};</script><script type=\"text/javascript\">if (window.MathJax) {MathJax.Hub.Config({SVG: {font: \"STIX-Web\"}});}</script><script>requirejs.config({paths: { 'plotly': ['https://cdn.plot.ly/plotly-latest.min']},});if(!window._Plotly) {require(['plotly'],function(plotly) {window._Plotly=plotly;});}</script>"
      ],
      "text/vnd.plotly.v1+html": [
       "<script type=\"text/javascript\">window.PlotlyConfig = {MathJaxConfig: 'local'};</script><script type=\"text/javascript\">if (window.MathJax) {MathJax.Hub.Config({SVG: {font: \"STIX-Web\"}});}</script><script>requirejs.config({paths: { 'plotly': ['https://cdn.plot.ly/plotly-latest.min']},});if(!window._Plotly) {require(['plotly'],function(plotly) {window._Plotly=plotly;});}</script>"
      ]
     },
     "metadata": {},
     "output_type": "display_data"
    }
   ],
   "source": [
    "#Importing libraries\n",
    "import numpy as np # linear algebra\n",
    "import pandas as pd # data processing, CSV file I/O (e.g. pd.read_csv)\n",
    "# Input data files are available in the \"../input/\" directory.\n",
    "import os\n",
    "import matplotlib.pyplot as plt#visualization\n",
    "from PIL import  Image\n",
    "%matplotlib inline\n",
    "import pandas as pd\n",
    "import seaborn as sns#visualization\n",
    "import itertools\n",
    "import warnings\n",
    "warnings.filterwarnings(\"ignore\")\n",
    "import io\n",
    "import plotly.offline as py#visualization\n",
    "py.init_notebook_mode(connected=True)#visualization\n",
    "import plotly.graph_objs as go#visualization\n",
    "import plotly.tools as tls#visualization\n",
    "import plotly.figure_factory as ff#visualization\n",
    "\n"
   ]
  },
  {
   "cell_type": "code",
   "execution_count": 2,
   "metadata": {},
   "outputs": [],
   "source": [
    "# Read csv data file\n",
    "rv = pd.read_csv(\"Revere Crash Data 2001-2016.csv\")\n",
    "wt = pd.read_csv(\"Revere Weather Data 1990-2018.csv\")"
   ]
  },
  {
   "cell_type": "code",
   "execution_count": 66,
   "metadata": {},
   "outputs": [
    {
     "data": {
      "text/html": [
       "<div>\n",
       "<style scoped>\n",
       "    .dataframe tbody tr th:only-of-type {\n",
       "        vertical-align: middle;\n",
       "    }\n",
       "\n",
       "    .dataframe tbody tr th {\n",
       "        vertical-align: top;\n",
       "    }\n",
       "\n",
       "    .dataframe thead th {\n",
       "        text-align: right;\n",
       "    }\n",
       "</style>\n",
       "<table border=\"1\" class=\"dataframe\">\n",
       "  <thead>\n",
       "    <tr style=\"text-align: right;\">\n",
       "      <th></th>\n",
       "      <th>Crash Number</th>\n",
       "      <th>Crash Date</th>\n",
       "      <th>Crash Time</th>\n",
       "      <th>Crash Hour</th>\n",
       "      <th>City/Town</th>\n",
       "      <th>Locality</th>\n",
       "      <th>RPA Abbreviation</th>\n",
       "      <th>MassHighway District</th>\n",
       "      <th>Crash Severity</th>\n",
       "      <th>Maximum Injury Severity Reported</th>\n",
       "      <th>...</th>\n",
       "      <th>Crash Status</th>\n",
       "      <th>Road Segment ID</th>\n",
       "      <th>County</th>\n",
       "      <th>RMV Document #</th>\n",
       "      <th>Driver Distracted By</th>\n",
       "      <th>Age of Non-Motorist - Youngest Known</th>\n",
       "      <th>Age of Non-Motorist - Oldest Known</th>\n",
       "      <th>Report IDs</th>\n",
       "      <th>Federal Functional Classification</th>\n",
       "      <th>Roadway Contributing Code</th>\n",
       "    </tr>\n",
       "  </thead>\n",
       "  <tbody>\n",
       "    <tr>\n",
       "      <th>0</th>\n",
       "      <td>1403053</td>\n",
       "      <td>11/25/2001</td>\n",
       "      <td>9:30 PM</td>\n",
       "      <td>09:00PM to 09:59PM</td>\n",
       "      <td>REVERE</td>\n",
       "      <td>REVERE</td>\n",
       "      <td>MAPC</td>\n",
       "      <td>4</td>\n",
       "      <td>Non-fatal injury</td>\n",
       "      <td>Non-fatal injury - Non-incapacitating</td>\n",
       "      <td>...</td>\n",
       "      <td>Closed</td>\n",
       "      <td>325377.0</td>\n",
       "      <td>SUFFOLK</td>\n",
       "      <td>PR200200300335</td>\n",
       "      <td>NaN</td>\n",
       "      <td>NaN</td>\n",
       "      <td>NaN</td>\n",
       "      <td>NaN</td>\n",
       "      <td>Major Collector</td>\n",
       "      <td>Not reported</td>\n",
       "    </tr>\n",
       "    <tr>\n",
       "      <th>1</th>\n",
       "      <td>1403045</td>\n",
       "      <td>11/23/2001</td>\n",
       "      <td>11:47 PM</td>\n",
       "      <td>11:00PM to 11:59PM</td>\n",
       "      <td>REVERE</td>\n",
       "      <td>REVERE</td>\n",
       "      <td>MAPC</td>\n",
       "      <td>4</td>\n",
       "      <td>Non-fatal injury</td>\n",
       "      <td>Non-fatal injury - Non-incapacitating</td>\n",
       "      <td>...</td>\n",
       "      <td>Closed</td>\n",
       "      <td>325724.0</td>\n",
       "      <td>SUFFOLK</td>\n",
       "      <td>PR200200300333</td>\n",
       "      <td>NaN</td>\n",
       "      <td>NaN</td>\n",
       "      <td>NaN</td>\n",
       "      <td>NaN</td>\n",
       "      <td>Major Collector</td>\n",
       "      <td>Not reported</td>\n",
       "    </tr>\n",
       "    <tr>\n",
       "      <th>2</th>\n",
       "      <td>1403048</td>\n",
       "      <td>11/25/2001</td>\n",
       "      <td>7:05 AM</td>\n",
       "      <td>07:00AM to 07:59AM</td>\n",
       "      <td>REVERE</td>\n",
       "      <td>REVERE</td>\n",
       "      <td>MAPC</td>\n",
       "      <td>4</td>\n",
       "      <td>Non-fatal injury</td>\n",
       "      <td>Non-fatal injury - Non-incapacitating</td>\n",
       "      <td>...</td>\n",
       "      <td>Closed</td>\n",
       "      <td>NaN</td>\n",
       "      <td>SUFFOLK</td>\n",
       "      <td>PR200200300334</td>\n",
       "      <td>NaN</td>\n",
       "      <td>NaN</td>\n",
       "      <td>NaN</td>\n",
       "      <td>NaN</td>\n",
       "      <td>NaN</td>\n",
       "      <td>Not reported</td>\n",
       "    </tr>\n",
       "    <tr>\n",
       "      <th>3</th>\n",
       "      <td>1401357</td>\n",
       "      <td>11/19/2001</td>\n",
       "      <td>6:19 PM</td>\n",
       "      <td>06:00PM to 06:59PM</td>\n",
       "      <td>REVERE</td>\n",
       "      <td>REVERE</td>\n",
       "      <td>MAPC</td>\n",
       "      <td>4</td>\n",
       "      <td>Non-fatal injury</td>\n",
       "      <td>Non-fatal injury - Possible</td>\n",
       "      <td>...</td>\n",
       "      <td>Closed</td>\n",
       "      <td>325962.0</td>\n",
       "      <td>SUFFOLK</td>\n",
       "      <td>PR200134000814 / OR200210600140</td>\n",
       "      <td>NaN</td>\n",
       "      <td>NaN</td>\n",
       "      <td>NaN</td>\n",
       "      <td>NaN</td>\n",
       "      <td>Principal Arterial - Other</td>\n",
       "      <td>Not reported</td>\n",
       "    </tr>\n",
       "    <tr>\n",
       "      <th>4</th>\n",
       "      <td>1401360</td>\n",
       "      <td>11/19/2001</td>\n",
       "      <td>6:00 PM</td>\n",
       "      <td>06:00PM to 06:59PM</td>\n",
       "      <td>REVERE</td>\n",
       "      <td>REVERE</td>\n",
       "      <td>MAPC</td>\n",
       "      <td>4</td>\n",
       "      <td>Non-fatal injury</td>\n",
       "      <td>Non-fatal injury - Possible</td>\n",
       "      <td>...</td>\n",
       "      <td>Closed</td>\n",
       "      <td>NaN</td>\n",
       "      <td>SUFFOLK</td>\n",
       "      <td>PR200134000815</td>\n",
       "      <td>NaN</td>\n",
       "      <td>NaN</td>\n",
       "      <td>NaN</td>\n",
       "      <td>NaN</td>\n",
       "      <td>NaN</td>\n",
       "      <td>Not reported</td>\n",
       "    </tr>\n",
       "  </tbody>\n",
       "</table>\n",
       "<p>5 rows × 81 columns</p>\n",
       "</div>"
      ],
      "text/plain": [
       "   Crash Number  Crash Date Crash Time          Crash Hour City/Town Locality  \\\n",
       "0       1403053  11/25/2001    9:30 PM  09:00PM to 09:59PM    REVERE   REVERE   \n",
       "1       1403045  11/23/2001   11:47 PM  11:00PM to 11:59PM    REVERE   REVERE   \n",
       "2       1403048  11/25/2001    7:05 AM  07:00AM to 07:59AM    REVERE   REVERE   \n",
       "3       1401357  11/19/2001    6:19 PM  06:00PM to 06:59PM    REVERE   REVERE   \n",
       "4       1401360  11/19/2001    6:00 PM  06:00PM to 06:59PM    REVERE   REVERE   \n",
       "\n",
       "  RPA Abbreviation  MassHighway District    Crash Severity  \\\n",
       "0             MAPC                     4  Non-fatal injury   \n",
       "1             MAPC                     4  Non-fatal injury   \n",
       "2             MAPC                     4  Non-fatal injury   \n",
       "3             MAPC                     4  Non-fatal injury   \n",
       "4             MAPC                     4  Non-fatal injury   \n",
       "\n",
       "        Maximum Injury Severity Reported            ...             \\\n",
       "0  Non-fatal injury - Non-incapacitating            ...              \n",
       "1  Non-fatal injury - Non-incapacitating            ...              \n",
       "2  Non-fatal injury - Non-incapacitating            ...              \n",
       "3            Non-fatal injury - Possible            ...              \n",
       "4            Non-fatal injury - Possible            ...              \n",
       "\n",
       "   Crash Status  Road Segment ID   County                   RMV Document #  \\\n",
       "0        Closed         325377.0  SUFFOLK                   PR200200300335   \n",
       "1        Closed         325724.0  SUFFOLK                   PR200200300333   \n",
       "2        Closed              NaN  SUFFOLK                   PR200200300334   \n",
       "3        Closed         325962.0  SUFFOLK  PR200134000814 / OR200210600140   \n",
       "4        Closed              NaN  SUFFOLK                   PR200134000815   \n",
       "\n",
       "  Driver Distracted By Age of Non-Motorist - Youngest Known  \\\n",
       "0                  NaN                                  NaN   \n",
       "1                  NaN                                  NaN   \n",
       "2                  NaN                                  NaN   \n",
       "3                  NaN                                  NaN   \n",
       "4                  NaN                                  NaN   \n",
       "\n",
       "  Age of Non-Motorist - Oldest Known Report IDs  \\\n",
       "0                                NaN        NaN   \n",
       "1                                NaN        NaN   \n",
       "2                                NaN        NaN   \n",
       "3                                NaN        NaN   \n",
       "4                                NaN        NaN   \n",
       "\n",
       "  Federal Functional Classification Roadway Contributing Code  \n",
       "0                   Major Collector              Not reported  \n",
       "1                   Major Collector              Not reported  \n",
       "2                               NaN              Not reported  \n",
       "3        Principal Arterial - Other              Not reported  \n",
       "4                               NaN              Not reported  \n",
       "\n",
       "[5 rows x 81 columns]"
      ]
     },
     "execution_count": 66,
     "metadata": {},
     "output_type": "execute_result"
    }
   ],
   "source": [
    "rv.head()"
   ]
  },
  {
   "cell_type": "code",
   "execution_count": 67,
   "metadata": {},
   "outputs": [
    {
     "name": "stdout",
     "output_type": "stream",
     "text": [
      "(10591, 40)\n"
     ]
    }
   ],
   "source": [
    "wt.head()\n",
    "print(wt.shape)"
   ]
  },
  {
   "cell_type": "code",
   "execution_count": 5,
   "metadata": {},
   "outputs": [],
   "source": [
    "number = rv['Crash Number']"
   ]
  },
  {
   "cell_type": "code",
   "execution_count": 6,
   "metadata": {},
   "outputs": [],
   "source": [
    "weather = rv['Weather Condition']"
   ]
  },
  {
   "cell_type": "code",
   "execution_count": 7,
   "metadata": {},
   "outputs": [],
   "source": [
    "road = rv['Road Surface']\n",
    "light = rv['Ambient Light']"
   ]
  },
  {
   "cell_type": "code",
   "execution_count": 8,
   "metadata": {},
   "outputs": [],
   "source": [
    "def union(R, S):\n",
    "    return R + S\n",
    "\n",
    "\n",
    "def difference(R, S):\n",
    "    return [t for t in R if t not in S]\n",
    "\n",
    "\n",
    "def intersect(R, S):\n",
    "    return [t for t in R if t in S]\n",
    "\n",
    "\n",
    "def project(R, p):\n",
    "    return [p(t) for t in R]\n",
    "\n",
    "\n",
    "def select(R, s):\n",
    "    # type: (object, object) -> object\n",
    "    return [t for t in R if s(t)]\n",
    "\n",
    "\n",
    "def product(R, S):\n",
    "    return [(t, u) for t in R for u in S]\n",
    "\n",
    "\n",
    "def aggregate(R, f):\n",
    "    keys = {r[0] for r in R}\n",
    "    return [(key, f([v for (k, v) in R if k == key])) for key in keys]"
   ]
  },
  {
   "cell_type": "code",
   "execution_count": 9,
   "metadata": {},
   "outputs": [],
   "source": [
    "A = rv[['Crash Number','Crash Date','Crash Severity','Ambient Light']]"
   ]
  },
  {
   "cell_type": "code",
   "execution_count": 10,
   "metadata": {},
   "outputs": [],
   "source": [
    "A.to_csv('table1.csv')"
   ]
  },
  {
   "cell_type": "code",
   "execution_count": 11,
   "metadata": {},
   "outputs": [],
   "source": [
    "B = wt[['DATE','PRCP','SNOW','SNWD','TSUN','WT01']]"
   ]
  },
  {
   "cell_type": "code",
   "execution_count": null,
   "metadata": {},
   "outputs": [],
   "source": []
  },
  {
   "cell_type": "code",
   "execution_count": 68,
   "metadata": {
    "scrolled": true
   },
   "outputs": [
    {
     "name": "stdout",
     "output_type": "stream",
     "text": [
      "(12835, 8)\n",
      "[['11/25/2001' 1403053 'Non-fatal injury' ... 0.08 0.0 1.0]\n",
      " ['11/25/2001' 1403048 'Non-fatal injury' ... 0.08 0.0 1.0]\n",
      " ['11/25/2001' 1402888 'Non-fatal injury' ... 0.08 0.0 1.0]\n",
      " ...\n",
      " ['12/26/2016' 4315307 'Property damage only (none injured)' ... 0.01 nan\n",
      "  1.0]\n",
      " ['12/28/2016' 4315722 'Property damage only (none injured)' ... 0.0 nan\n",
      "  nan]\n",
      " ['3/31/2016' 4326618 'Property damage only (none injured)' ... 0.0 nan\n",
      "  nan]]\n",
      "(44, 8)\n",
      "          Date  Crash Number Crash Severity                    Ambient Light  \\\n",
      "0    3/17/2002       1570265   Fatal injury           Dark - lighted roadway   \n",
      "1     5/9/2002       1567445   Fatal injury           Dark - lighted roadway   \n",
      "2    8/18/2002       1560706   Fatal injury                             Dawn   \n",
      "3    8/26/2002       1532613   Fatal injury                         Daylight   \n",
      "4   12/12/2002       1582065   Fatal injury           Dark - lighted roadway   \n",
      "5    5/17/2003       1587104   Fatal injury           Dark - lighted roadway   \n",
      "6    6/13/2003       1619526   Fatal injury           Dark - lighted roadway   \n",
      "7   10/13/2003       1708730   Fatal injury           Dark - lighted roadway   \n",
      "8   10/12/2003       1652717   Fatal injury       Dark - roadway not lighted   \n",
      "9    3/18/2004       1881410   Fatal injury                         Daylight   \n",
      "10  12/19/2004       1861979   Fatal injury                     Not reported   \n",
      "11  12/19/2004       1866451   Fatal injury                         Daylight   \n",
      "12    3/2/2005       1856044   Fatal injury           Dark - lighted roadway   \n",
      "13   5/29/2005       1996463   Fatal injury                         Daylight   \n",
      "14    8/3/2005       1916502   Fatal injury                         Daylight   \n",
      "15   6/30/2005       1933404   Fatal injury           Dark - lighted roadway   \n",
      "16   5/28/2006       2071716   Fatal injury           Dark - lighted roadway   \n",
      "17   6/22/2006       2101261   Fatal injury                         Daylight   \n",
      "18  12/31/2006       2237301   Fatal injury                         Daylight   \n",
      "19    1/5/2007       2207287   Fatal injury  Dark - unknown roadway lighting   \n",
      "20   1/28/2007       2157635   Fatal injury           Dark - lighted roadway   \n",
      "21   11/7/2006       2176777   Fatal injury           Dark - lighted roadway   \n",
      "22   4/15/2007       2217025   Fatal injury                             Dawn   \n",
      "23   8/13/2007       2318651   Fatal injury                     Not reported   \n",
      "24    8/3/2007       2318616   Fatal injury                         Daylight   \n",
      "25   6/23/2007       2293605   Fatal injury           Dark - lighted roadway   \n",
      "26    6/8/2008       2425168   Fatal injury           Dark - lighted roadway   \n",
      "27    7/3/2008       2399548   Fatal injury                         Daylight   \n",
      "28    8/6/2009       2591468   Fatal injury                         Daylight   \n",
      "29   9/15/2009       2534451   Fatal injury           Dark - lighted roadway   \n",
      "30  11/14/2009       2537339   Fatal injury           Dark - lighted roadway   \n",
      "31    4/1/2010       2592459   Fatal injury                             Dawn   \n",
      "32   8/28/2010       2640239   Fatal injury           Dark - lighted roadway   \n",
      "33  10/13/2010       2652384   Fatal injury                         Daylight   \n",
      "34  10/11/2010       2652381   Fatal injury                         Daylight   \n",
      "35   8/29/2011       3038828   Fatal injury                             Dawn   \n",
      "36  10/21/2011       3119638   Fatal injury           Dark - lighted roadway   \n",
      "37  12/26/2011       3372659   Fatal injury                         Daylight   \n",
      "38  12/10/2013       3696547   Fatal injury           Dark - lighted roadway   \n",
      "39  12/13/2013       4040832   Fatal injury                         Daylight   \n",
      "40    7/9/2014       3880611   Fatal injury                         Daylight   \n",
      "41  10/24/2015       4113393   Fatal injury                         Daylight   \n",
      "42   5/31/2016       4228227   Fatal injury           Dark - lighted roadway   \n",
      "43  12/25/2016       4332745   Fatal injury       Dark - roadway not lighted   \n",
      "\n",
      "    Snow  Precipation  Snow Dpeth  Fog  \n",
      "0    0.0         0.00         0.0  0.0  \n",
      "1    0.0         0.05         0.0  1.0  \n",
      "2    0.0         0.00         0.0  0.0  \n",
      "3    0.0         0.00         0.0  0.0  \n",
      "4    0.0         0.52         0.0  1.0  \n",
      "5    0.0         0.00         0.0  0.0  \n",
      "6    0.0         0.15         0.0  1.0  \n",
      "7    0.0         0.00         0.0  0.0  \n",
      "8    0.0         2.00         0.0  1.0  \n",
      "9    0.4         0.02         8.0  1.0  \n",
      "10   0.0         0.00         0.0  0.0  \n",
      "11   0.0         0.00         0.0  0.0  \n",
      "12   0.0         0.00         0.0  0.0  \n",
      "13   0.0         0.13         0.0  1.0  \n",
      "14   0.0         0.00         0.0  0.0  \n",
      "15   0.0         0.00         0.0  1.0  \n",
      "16   0.0         0.00         0.0  0.0  \n",
      "17   0.0         0.00         0.0  0.0  \n",
      "18   0.0         0.00         0.0  0.0  \n",
      "19   0.0         0.01         0.0  1.0  \n",
      "20   0.3         0.02         0.0  1.0  \n",
      "21   0.0         0.14         0.0  1.0  \n",
      "22   0.0         1.42         0.0  1.0  \n",
      "23   0.0         0.00         0.0  0.0  \n",
      "24   0.0         0.00         0.0  0.0  \n",
      "25   0.0         0.00         0.0  0.0  \n",
      "26   0.0         0.00         0.0  0.0  \n",
      "27   0.0         0.12         0.0  0.0  \n",
      "28   0.0         0.00         0.0  0.0  \n",
      "29   0.0         0.00         0.0  0.0  \n",
      "30   0.0         1.49         0.0  1.0  \n",
      "31   0.0         0.00         0.0  0.0  \n",
      "32   0.0         0.00         0.0  0.0  \n",
      "33   0.0         0.00         0.0  0.0  \n",
      "34   0.0         0.00         0.0  0.0  \n",
      "35   0.0         0.00         0.0  0.0  \n",
      "36   0.0         0.00         0.0  0.0  \n",
      "37   0.0         0.00         0.0  0.0  \n",
      "38   0.3         0.07         0.0  0.0  \n",
      "39   0.0         0.00         0.0  0.0  \n",
      "40   0.0         0.00         0.0  0.0  \n",
      "41   0.0         0.00         0.0  0.0  \n",
      "42   0.0         0.00         0.0  0.0  \n",
      "43   0.0         0.00         0.0  0.0  \n"
     ]
    }
   ],
   "source": [
    "left = pd.DataFrame({'Date':A['Crash Date'],\n",
    "                    'Crash Number':A['Crash Number'],'Crash Severity':A['Crash Severity'],'Ambient Light':A['Ambient Light']})\n",
    "right = pd.DataFrame({'Date':wt['DATE'],'Snow':B['SNOW'],'Precipation':B['PRCP'],'Snow Dpeth':B['SNWD'],'Fog':B['WT01']})\n",
    "\n",
    "result = pd.merge(left,right,on='Date')\n",
    "result.fillna(0)\n",
    "result = result.values\n",
    "\n",
    "\n",
    "out = select(result,lambda t: 'Fatal' in t[2])\n",
    "out1 = []\n",
    "for entry in out:\n",
    "    entry = entry.tolist()\n",
    "    out1.append(entry)\n",
    "labels = ['Date','Crash Number','Crash Severity','Ambient Light','Snow','Precipation','Snow Dpeth','Fog']\n",
    "fatality  = pd.DataFrame.from_records(out1, columns=labels)\n",
    "fatality.drop(columns=['Crash Severity'])\n",
    "fatality.fillna(0,inplace=True)\n",
    "print(result.shape)\n",
    "print(result)\n",
    "print(fatality.shape)\n",
    "print(fatality)"
   ]
  },
  {
   "cell_type": "code",
   "execution_count": 57,
   "metadata": {},
   "outputs": [
    {
     "data": {
      "application/vnd.plotly.v1+json": {
       "config": {
        "linkText": "Export to plot.ly",
        "plotlyServerURL": "https://plot.ly",
        "showLink": false
       },
       "data": [
        {
         "type": "histogram",
         "uid": "2db79352-5ae5-4a5f-9b87-77dba9944f95",
         "x": [
          31,
          2,
          1,
          1,
          1,
          1,
          1,
          1,
          1,
          1,
          1,
          1,
          1
         ]
        }
       ],
       "layout": {}
      },
      "text/html": [
       "<div id=\"cab632ec-95c6-45fa-9f23-50f96999e54f\" style=\"height: 525px; width: 100%;\" class=\"plotly-graph-div\"></div><script type=\"text/javascript\">require([\"plotly\"], function(Plotly) { window.PLOTLYENV=window.PLOTLYENV || {};window.PLOTLYENV.BASE_URL=\"https://plot.ly\";Plotly.newPlot(\"cab632ec-95c6-45fa-9f23-50f96999e54f\", [{\"x\": [31, 2, 1, 1, 1, 1, 1, 1, 1, 1, 1, 1, 1], \"type\": \"histogram\", \"uid\": \"bd0bbaad-99ee-4d12-a0b9-def94e412cc6\"}], {}, {\"showLink\": false, \"linkText\": \"Export to plot.ly\", \"plotlyServerURL\": \"https://plot.ly\"})});</script><script type=\"text/javascript\">window.addEventListener(\"resize\", function(){window._Plotly.Plots.resize(document.getElementById(\"cab632ec-95c6-45fa-9f23-50f96999e54f\"));});</script>"
      ],
      "text/vnd.plotly.v1+html": [
       "<div id=\"cab632ec-95c6-45fa-9f23-50f96999e54f\" style=\"height: 525px; width: 100%;\" class=\"plotly-graph-div\"></div><script type=\"text/javascript\">require([\"plotly\"], function(Plotly) { window.PLOTLYENV=window.PLOTLYENV || {};window.PLOTLYENV.BASE_URL=\"https://plot.ly\";Plotly.newPlot(\"cab632ec-95c6-45fa-9f23-50f96999e54f\", [{\"x\": [31, 2, 1, 1, 1, 1, 1, 1, 1, 1, 1, 1, 1], \"type\": \"histogram\", \"uid\": \"bd0bbaad-99ee-4d12-a0b9-def94e412cc6\"}], {}, {\"showLink\": false, \"linkText\": \"Export to plot.ly\", \"plotlyServerURL\": \"https://plot.ly\"})});</script><script type=\"text/javascript\">window.addEventListener(\"resize\", function(){window._Plotly.Plots.resize(document.getElementById(\"cab632ec-95c6-45fa-9f23-50f96999e54f\"));});</script>"
      ]
     },
     "metadata": {},
     "output_type": "display_data"
    }
   ],
   "source": [
    "fatality.sort_values(by=['Precipation'])\n",
    "val = fatality[\"Precipation\"].value_counts().values.tolist()\n",
    "data = [go.Histogram(x=val)]\n",
    "\n",
    "py.iplot(data, filename='basic histogram')  "
   ]
  },
  {
   "cell_type": "code",
   "execution_count": 44,
   "metadata": {},
   "outputs": [
    {
     "data": {
      "application/vnd.plotly.v1+json": {
       "config": {
        "linkText": "Export to plot.ly",
        "plotlyServerURL": "https://plot.ly",
        "showLink": false
       },
       "data": [
        {
         "hole": 0.5,
         "hoverinfo": "label+value+text",
         "labels": [
          "Dark - lighted roadway",
          "Daylight",
          "Dawn",
          "Not reported",
          "Dark - roadway not lighted",
          "Dark - unknown roadway lighting"
         ],
         "marker": {
          "colors": [
           "royalblue",
           "lime"
          ],
          "line": {
           "color": "white",
           "width": 1.3
          }
         },
         "rotation": 90,
         "type": "pie",
         "uid": "dcb5b840-56a5-45f2-b8d7-6c2f50bda498",
         "values": [
          19,
          16,
          4,
          2,
          2,
          1
         ]
        }
       ],
       "layout": {
        "paper_bgcolor": "rgb(243,243,243)",
        "plot_bgcolor": "rgb(243,243,243)",
        "title": {
         "text": "Customer attrition in data"
        }
       }
      },
      "text/html": [
       "<div id=\"000dc721-59b4-4c59-a8dc-f105421f9d9f\" style=\"height: 525px; width: 100%;\" class=\"plotly-graph-div\"></div><script type=\"text/javascript\">require([\"plotly\"], function(Plotly) { window.PLOTLYENV=window.PLOTLYENV || {};window.PLOTLYENV.BASE_URL=\"https://plot.ly\";Plotly.newPlot(\"000dc721-59b4-4c59-a8dc-f105421f9d9f\", [{\"hole\": 0.5, \"hoverinfo\": \"label+value+text\", \"labels\": [\"Dark - lighted roadway\", \"Daylight\", \"Dawn\", \"Not reported\", \"Dark - roadway not lighted\", \"Dark - unknown roadway lighting\"], \"marker\": {\"colors\": [\"royalblue\", \"lime\"], \"line\": {\"color\": \"white\", \"width\": 1.3}}, \"rotation\": 90, \"values\": [19, 16, 4, 2, 2, 1], \"type\": \"pie\", \"uid\": \"dcb5b840-56a5-45f2-b8d7-6c2f50bda498\"}], {\"paper_bgcolor\": \"rgb(243,243,243)\", \"plot_bgcolor\": \"rgb(243,243,243)\", \"title\": {\"text\": \"Customer attrition in data\"}}, {\"showLink\": false, \"linkText\": \"Export to plot.ly\", \"plotlyServerURL\": \"https://plot.ly\"})});</script><script type=\"text/javascript\">window.addEventListener(\"resize\", function(){window._Plotly.Plots.resize(document.getElementById(\"000dc721-59b4-4c59-a8dc-f105421f9d9f\"));});</script>"
      ],
      "text/vnd.plotly.v1+html": [
       "<div id=\"000dc721-59b4-4c59-a8dc-f105421f9d9f\" style=\"height: 525px; width: 100%;\" class=\"plotly-graph-div\"></div><script type=\"text/javascript\">require([\"plotly\"], function(Plotly) { window.PLOTLYENV=window.PLOTLYENV || {};window.PLOTLYENV.BASE_URL=\"https://plot.ly\";Plotly.newPlot(\"000dc721-59b4-4c59-a8dc-f105421f9d9f\", [{\"hole\": 0.5, \"hoverinfo\": \"label+value+text\", \"labels\": [\"Dark - lighted roadway\", \"Daylight\", \"Dawn\", \"Not reported\", \"Dark - roadway not lighted\", \"Dark - unknown roadway lighting\"], \"marker\": {\"colors\": [\"royalblue\", \"lime\"], \"line\": {\"color\": \"white\", \"width\": 1.3}}, \"rotation\": 90, \"values\": [19, 16, 4, 2, 2, 1], \"type\": \"pie\", \"uid\": \"dcb5b840-56a5-45f2-b8d7-6c2f50bda498\"}], {\"paper_bgcolor\": \"rgb(243,243,243)\", \"plot_bgcolor\": \"rgb(243,243,243)\", \"title\": {\"text\": \"Customer attrition in data\"}}, {\"showLink\": false, \"linkText\": \"Export to plot.ly\", \"plotlyServerURL\": \"https://plot.ly\"})});</script><script type=\"text/javascript\">window.addEventListener(\"resize\", function(){window._Plotly.Plots.resize(document.getElementById(\"000dc721-59b4-4c59-a8dc-f105421f9d9f\"));});</script>"
      ]
     },
     "metadata": {},
     "output_type": "display_data"
    }
   ],
   "source": [
    "#labels\n",
    "lab = fatality[\"Ambient Light\"].value_counts().keys().tolist()\n",
    "#values\n",
    "val = fatality[\"Ambient Light\"].value_counts().values.tolist()\n",
    "\n",
    "trace = go.Pie(labels = lab ,\n",
    "               values = val ,\n",
    "               marker = dict(colors =  [ 'royalblue' ,'lime'],\n",
    "                             line = dict(color = \"white\",\n",
    "                                         width =  1.3)\n",
    "                            ),\n",
    "               rotation = 90,\n",
    "               hoverinfo = \"label+value+text\",\n",
    "               hole = .5\n",
    "              )\n",
    "layout = go.Layout(dict(title = \"Customer attrition in data\",\n",
    "                        plot_bgcolor  = \"rgb(243,243,243)\",\n",
    "                        paper_bgcolor = \"rgb(243,243,243)\",\n",
    "                       )\n",
    "                  )\n",
    "\n",
    "data = [trace]\n",
    "fig = go.Figure(data = data,layout = layout)\n",
    "py.iplot(fig)"
   ]
  },
  {
   "cell_type": "code",
   "execution_count": 47,
   "metadata": {},
   "outputs": [
    {
     "data": {
      "application/vnd.plotly.v1+json": {
       "config": {
        "linkText": "Export to plot.ly",
        "plotlyServerURL": "https://plot.ly",
        "showLink": false
       },
       "data": [
        {
         "hole": 0.5,
         "hoverinfo": "label+value+text",
         "labels": [
          0,
          1
         ],
         "marker": {
          "colors": [
           "royalblue",
           "lime"
          ],
          "line": {
           "color": "white",
           "width": 1.3
          }
         },
         "rotation": 90,
         "type": "pie",
         "uid": "852fa6ee-6ae3-48fd-8e6e-afe41335b87b",
         "values": [
          32,
          12
         ]
        }
       ],
       "layout": {
        "paper_bgcolor": "rgb(243,243,243)",
        "plot_bgcolor": "rgb(243,243,243)",
        "title": {
         "text": "Customer attrition in data"
        }
       }
      },
      "text/html": [
       "<div id=\"b20a67b6-a41d-4f1c-9f26-9cbb84cd4023\" style=\"height: 525px; width: 100%;\" class=\"plotly-graph-div\"></div><script type=\"text/javascript\">require([\"plotly\"], function(Plotly) { window.PLOTLYENV=window.PLOTLYENV || {};window.PLOTLYENV.BASE_URL=\"https://plot.ly\";Plotly.newPlot(\"b20a67b6-a41d-4f1c-9f26-9cbb84cd4023\", [{\"hole\": 0.5, \"hoverinfo\": \"label+value+text\", \"labels\": [0.0, 1.0], \"marker\": {\"colors\": [\"royalblue\", \"lime\"], \"line\": {\"color\": \"white\", \"width\": 1.3}}, \"rotation\": 90, \"values\": [32, 12], \"type\": \"pie\", \"uid\": \"852fa6ee-6ae3-48fd-8e6e-afe41335b87b\"}], {\"paper_bgcolor\": \"rgb(243,243,243)\", \"plot_bgcolor\": \"rgb(243,243,243)\", \"title\": {\"text\": \"Customer attrition in data\"}}, {\"showLink\": false, \"linkText\": \"Export to plot.ly\", \"plotlyServerURL\": \"https://plot.ly\"})});</script><script type=\"text/javascript\">window.addEventListener(\"resize\", function(){window._Plotly.Plots.resize(document.getElementById(\"b20a67b6-a41d-4f1c-9f26-9cbb84cd4023\"));});</script>"
      ],
      "text/vnd.plotly.v1+html": [
       "<div id=\"b20a67b6-a41d-4f1c-9f26-9cbb84cd4023\" style=\"height: 525px; width: 100%;\" class=\"plotly-graph-div\"></div><script type=\"text/javascript\">require([\"plotly\"], function(Plotly) { window.PLOTLYENV=window.PLOTLYENV || {};window.PLOTLYENV.BASE_URL=\"https://plot.ly\";Plotly.newPlot(\"b20a67b6-a41d-4f1c-9f26-9cbb84cd4023\", [{\"hole\": 0.5, \"hoverinfo\": \"label+value+text\", \"labels\": [0.0, 1.0], \"marker\": {\"colors\": [\"royalblue\", \"lime\"], \"line\": {\"color\": \"white\", \"width\": 1.3}}, \"rotation\": 90, \"values\": [32, 12], \"type\": \"pie\", \"uid\": \"852fa6ee-6ae3-48fd-8e6e-afe41335b87b\"}], {\"paper_bgcolor\": \"rgb(243,243,243)\", \"plot_bgcolor\": \"rgb(243,243,243)\", \"title\": {\"text\": \"Customer attrition in data\"}}, {\"showLink\": false, \"linkText\": \"Export to plot.ly\", \"plotlyServerURL\": \"https://plot.ly\"})});</script><script type=\"text/javascript\">window.addEventListener(\"resize\", function(){window._Plotly.Plots.resize(document.getElementById(\"b20a67b6-a41d-4f1c-9f26-9cbb84cd4023\"));});</script>"
      ]
     },
     "metadata": {},
     "output_type": "display_data"
    }
   ],
   "source": [
    "#labels\n",
    "lab = fatality[\"Fog\"].value_counts().keys().tolist()\n",
    "#values\n",
    "val = fatality[\"Fog\"].value_counts().values.tolist()\n",
    "\n",
    "trace = go.Pie(labels = lab ,\n",
    "               values = val ,\n",
    "               marker = dict(colors =  [ 'royalblue' ,'lime'],\n",
    "                             line = dict(color = \"white\",\n",
    "                                         width =  1.3)\n",
    "                            ),\n",
    "               rotation = 90,\n",
    "               hoverinfo = \"label+value+text\",\n",
    "               hole = .5\n",
    "              )\n",
    "layout = go.Layout(dict(title = \"Customer attrition in data\",\n",
    "                        plot_bgcolor  = \"rgb(243,243,243)\",\n",
    "                        paper_bgcolor = \"rgb(243,243,243)\",\n",
    "                       )\n",
    "                  )\n",
    "\n",
    "data = [trace]\n",
    "fig = go.Figure(data = data,layout = layout)\n",
    "py.iplot(fig)"
   ]
  },
  {
   "cell_type": "code",
   "execution_count": 51,
   "metadata": {},
   "outputs": [
    {
     "data": {
      "application/vnd.plotly.v1+json": {
       "config": {
        "linkText": "Export to plot.ly",
        "plotlyServerURL": "https://plot.ly",
        "showLink": false
       },
       "data": [
        {
         "marker": {
          "color": "pink",
          "size": 12
         },
         "mode": "markers",
         "name": "Perception",
         "type": "scatter",
         "uid": "c1d6d79b-b969-4144-bbb3-179defb1c3e9",
         "x": [
          32,
          12
         ],
         "y": [
          0,
          1
         ]
        }
       ],
       "layout": {
        "paper_bgcolor": "rgb(243,243,243)",
        "plot_bgcolor": "rgb(243,243,243)",
        "title": {
         "text": "Customer attrition in data"
        }
       }
      },
      "text/html": [
       "<div id=\"5e85cdc2-64c5-442d-93ae-723a24f32d09\" style=\"height: 525px; width: 100%;\" class=\"plotly-graph-div\"></div><script type=\"text/javascript\">require([\"plotly\"], function(Plotly) { window.PLOTLYENV=window.PLOTLYENV || {};window.PLOTLYENV.BASE_URL=\"https://plot.ly\";Plotly.newPlot(\"5e85cdc2-64c5-442d-93ae-723a24f32d09\", [{\"marker\": {\"color\": \"pink\", \"size\": 12}, \"mode\": \"markers\", \"name\": \"Perception\", \"x\": [32, 12], \"y\": [0.0, 1.0], \"type\": \"scatter\", \"uid\": \"c1d6d79b-b969-4144-bbb3-179defb1c3e9\"}], {\"paper_bgcolor\": \"rgb(243,243,243)\", \"plot_bgcolor\": \"rgb(243,243,243)\", \"title\": {\"text\": \"Customer attrition in data\"}}, {\"showLink\": false, \"linkText\": \"Export to plot.ly\", \"plotlyServerURL\": \"https://plot.ly\"})});</script><script type=\"text/javascript\">window.addEventListener(\"resize\", function(){window._Plotly.Plots.resize(document.getElementById(\"5e85cdc2-64c5-442d-93ae-723a24f32d09\"));});</script>"
      ],
      "text/vnd.plotly.v1+html": [
       "<div id=\"5e85cdc2-64c5-442d-93ae-723a24f32d09\" style=\"height: 525px; width: 100%;\" class=\"plotly-graph-div\"></div><script type=\"text/javascript\">require([\"plotly\"], function(Plotly) { window.PLOTLYENV=window.PLOTLYENV || {};window.PLOTLYENV.BASE_URL=\"https://plot.ly\";Plotly.newPlot(\"5e85cdc2-64c5-442d-93ae-723a24f32d09\", [{\"marker\": {\"color\": \"pink\", \"size\": 12}, \"mode\": \"markers\", \"name\": \"Perception\", \"x\": [32, 12], \"y\": [0.0, 1.0], \"type\": \"scatter\", \"uid\": \"c1d6d79b-b969-4144-bbb3-179defb1c3e9\"}], {\"paper_bgcolor\": \"rgb(243,243,243)\", \"plot_bgcolor\": \"rgb(243,243,243)\", \"title\": {\"text\": \"Customer attrition in data\"}}, {\"showLink\": false, \"linkText\": \"Export to plot.ly\", \"plotlyServerURL\": \"https://plot.ly\"})});</script><script type=\"text/javascript\">window.addEventListener(\"resize\", function(){window._Plotly.Plots.resize(document.getElementById(\"5e85cdc2-64c5-442d-93ae-723a24f32d09\"));});</script>"
      ]
     },
     "metadata": {},
     "output_type": "display_data"
    }
   ],
   "source": [
    "\n",
    "#labels\n",
    "lab = fatality[\"Fog\"].value_counts().keys().tolist()\n",
    "#values\n",
    "val = fatality[\"Fog\"].value_counts().values.tolist()\n",
    "trace = {\"x\": val, \n",
    "          \"y\": lab, \n",
    "          \"marker\": {\"color\": \"pink\", \"size\": 12}, \n",
    "          \"mode\": \"markers\", \n",
    "          \"name\": \"Perception\", \n",
    "          \"type\": \"scatter\"\n",
    "}\n",
    "data = [trace]\n",
    "\n",
    "fig = go.Figure(data=data, layout=layout)\n",
    "py.iplot(fig, filename='basic_dot-plot')\n"
   ]
  },
  {
   "cell_type": "code",
   "execution_count": 11,
   "metadata": {},
   "outputs": [
    {
     "data": {
      "application/vnd.plotly.v1+json": {
       "config": {
        "linkText": "Export to plot.ly",
        "plotlyServerURL": "https://plot.ly",
        "showLink": false
       },
       "data": [
        {
         "hole": 0.5,
         "hoverinfo": "label+value+text",
         "labels": [
          "Dry",
          "Wet",
          "Not reported",
          "Snow",
          "Ice",
          "Slush",
          "Sand, mud, dirt, oil, gravel",
          "Unknown",
          "Water (standing, moving)",
          "Other"
         ],
         "marker": {
          "colors": [
           "royalblue",
           "lime"
          ],
          "line": {
           "color": "white",
           "width": 1.3
          }
         },
         "rotation": 90,
         "type": "pie",
         "uid": "5acbf96c-86e0-47d9-98a3-4bc6a04fc699",
         "values": [
          8802,
          2743,
          545,
          330,
          220,
          50,
          45,
          41,
          36,
          23
         ]
        }
       ],
       "layout": {
        "paper_bgcolor": "rgb(243,243,243)",
        "plot_bgcolor": "rgb(243,243,243)",
        "title": {
         "text": "Customer attrition in data"
        }
       }
      },
      "text/html": [
       "<div id=\"4d7e245e-48ab-47e2-974e-89ec366925a3\" style=\"height: 525px; width: 100%;\" class=\"plotly-graph-div\"></div><script type=\"text/javascript\">require([\"plotly\"], function(Plotly) { window.PLOTLYENV=window.PLOTLYENV || {};window.PLOTLYENV.BASE_URL=\"https://plot.ly\";Plotly.newPlot(\"4d7e245e-48ab-47e2-974e-89ec366925a3\", [{\"hole\": 0.5, \"hoverinfo\": \"label+value+text\", \"labels\": [\"Dry\", \"Wet\", \"Not reported\", \"Snow\", \"Ice\", \"Slush\", \"Sand, mud, dirt, oil, gravel\", \"Unknown\", \"Water (standing, moving)\", \"Other\"], \"marker\": {\"colors\": [\"royalblue\", \"lime\"], \"line\": {\"color\": \"white\", \"width\": 1.3}}, \"rotation\": 90, \"values\": [8802, 2743, 545, 330, 220, 50, 45, 41, 36, 23], \"type\": \"pie\", \"uid\": \"5acbf96c-86e0-47d9-98a3-4bc6a04fc699\"}], {\"paper_bgcolor\": \"rgb(243,243,243)\", \"plot_bgcolor\": \"rgb(243,243,243)\", \"title\": {\"text\": \"Customer attrition in data\"}}, {\"showLink\": false, \"linkText\": \"Export to plot.ly\", \"plotlyServerURL\": \"https://plot.ly\"})});</script><script type=\"text/javascript\">window.addEventListener(\"resize\", function(){window._Plotly.Plots.resize(document.getElementById(\"4d7e245e-48ab-47e2-974e-89ec366925a3\"));});</script>"
      ],
      "text/vnd.plotly.v1+html": [
       "<div id=\"4d7e245e-48ab-47e2-974e-89ec366925a3\" style=\"height: 525px; width: 100%;\" class=\"plotly-graph-div\"></div><script type=\"text/javascript\">require([\"plotly\"], function(Plotly) { window.PLOTLYENV=window.PLOTLYENV || {};window.PLOTLYENV.BASE_URL=\"https://plot.ly\";Plotly.newPlot(\"4d7e245e-48ab-47e2-974e-89ec366925a3\", [{\"hole\": 0.5, \"hoverinfo\": \"label+value+text\", \"labels\": [\"Dry\", \"Wet\", \"Not reported\", \"Snow\", \"Ice\", \"Slush\", \"Sand, mud, dirt, oil, gravel\", \"Unknown\", \"Water (standing, moving)\", \"Other\"], \"marker\": {\"colors\": [\"royalblue\", \"lime\"], \"line\": {\"color\": \"white\", \"width\": 1.3}}, \"rotation\": 90, \"values\": [8802, 2743, 545, 330, 220, 50, 45, 41, 36, 23], \"type\": \"pie\", \"uid\": \"5acbf96c-86e0-47d9-98a3-4bc6a04fc699\"}], {\"paper_bgcolor\": \"rgb(243,243,243)\", \"plot_bgcolor\": \"rgb(243,243,243)\", \"title\": {\"text\": \"Customer attrition in data\"}}, {\"showLink\": false, \"linkText\": \"Export to plot.ly\", \"plotlyServerURL\": \"https://plot.ly\"})});</script><script type=\"text/javascript\">window.addEventListener(\"resize\", function(){window._Plotly.Plots.resize(document.getElementById(\"4d7e245e-48ab-47e2-974e-89ec366925a3\"));});</script>"
      ]
     },
     "metadata": {},
     "output_type": "display_data"
    }
   ],
   "source": [
    "#labels\n",
    "lab = rv[\"Road Surface\"].value_counts().keys().tolist()\n",
    "#values\n",
    "val = rv[\"Road Surface\"].value_counts().values.tolist()\n",
    "\n",
    "trace = go.Pie(labels = lab ,\n",
    "               values = val ,\n",
    "               marker = dict(colors =  [ 'royalblue' ,'lime'],\n",
    "                             line = dict(color = \"white\",\n",
    "                                         width =  1.3)\n",
    "                            ),\n",
    "               rotation = 90,\n",
    "               hoverinfo = \"label+value+text\",\n",
    "               hole = .5\n",
    "              )\n",
    "layout = go.Layout(dict(title = \"Customer attrition in data\",\n",
    "                        plot_bgcolor  = \"rgb(243,243,243)\",\n",
    "                        paper_bgcolor = \"rgb(243,243,243)\",\n",
    "                       )\n",
    "                  )\n",
    "\n",
    "data = [trace]\n",
    "fig = go.Figure(data = data,layout = layout)\n",
    "py.iplot(fig)"
   ]
  },
  {
   "cell_type": "code",
   "execution_count": null,
   "metadata": {},
   "outputs": [],
   "source": []
  },
  {
   "cell_type": "code",
   "execution_count": null,
   "metadata": {},
   "outputs": [],
   "source": []
  }
 ],
 "metadata": {
  "kernelspec": {
   "display_name": "Python 3",
   "language": "python",
   "name": "python3"
  },
  "language_info": {
   "codemirror_mode": {
    "name": "ipython",
    "version": 3
   },
   "file_extension": ".py",
   "mimetype": "text/x-python",
   "name": "python",
   "nbconvert_exporter": "python",
   "pygments_lexer": "ipython3",
   "version": "3.7.1"
  }
 },
 "nbformat": 4,
 "nbformat_minor": 2
}
