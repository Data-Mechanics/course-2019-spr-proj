{
 "cells": [
  {
   "cell_type": "code",
   "execution_count": 3,
   "metadata": {},
   "outputs": [],
   "source": [
    "import requests\n",
    "import json\n",
    "import dml\n",
    "import prov.model\n",
    "import datetime\n",
    "import uuid\n",
    "from bs4 import BeautifulSoup as bs\n",
    "import pandas as pd\n",
    "import numpy as np"
   ]
  },
  {
   "cell_type": "code",
   "execution_count": 4,
   "metadata": {},
   "outputs": [],
   "source": [
    "contributor = 'mmao95_Dongyihe_weijiang_zhukk'\n",
    "reads = []\n",
    "writes = [contributor + '.famous_people']"
   ]
  },
  {
   "cell_type": "markdown",
   "metadata": {},
   "source": [
    "## exec"
   ]
  },
  {
   "cell_type": "code",
   "execution_count": 6,
   "metadata": {},
   "outputs": [
    {
     "data": {
      "text/plain": [
       "True"
      ]
     },
     "execution_count": 6,
     "metadata": {},
     "output_type": "execute_result"
    }
   ],
   "source": [
    "startTime = datetime.datetime.now()\n",
    "\n",
    "# Set up the database connection.\n",
    "client = dml.pymongo.MongoClient()\n",
    "repo = client.repo\n",
    "repo.authenticate(contributor, contributor)"
   ]
  },
  {
   "cell_type": "code",
   "execution_count": 15,
   "metadata": {},
   "outputs": [
    {
     "data": {
      "text/plain": [
       "110"
      ]
     },
     "execution_count": 15,
     "metadata": {},
     "output_type": "execute_result"
    }
   ],
   "source": [
    "url = 'http://datamechanics.io/data/us_famous_people.csv'\n",
    "usfp = pd.read_csv(url)\n",
    "names = usfp['full_name'].values\n",
    "len(names)"
   ]
  },
  {
   "cell_type": "code",
   "execution_count": 21,
   "metadata": {
    "scrolled": true
   },
   "outputs": [
    {
     "data": {
      "text/plain": [
       "230"
      ]
     },
     "execution_count": 21,
     "metadata": {},
     "output_type": "execute_result"
    }
   ],
   "source": [
    "doc = requests.get(\"https://www.50states.com/bio/mass.htm\").text\n",
    "soup = bs(doc)\n",
    "names = np.append(names, [e.text for e in soup.select(\"#content b\")])\n",
    "len(names)"
   ]
  },
  {
   "cell_type": "code",
   "execution_count": 22,
   "metadata": {},
   "outputs": [],
   "source": [
    "list = []\n",
    "for name in names:\n",
    "    parts = name.split()\n",
    "    obj = {\n",
    "        'full_name': name,\n",
    "        'first_name': parts[0],\n",
    "        'last_name': parts[-1] if len(parts) > 1 else None,\n",
    "        'middle_name': parts[1:-1] if len(parts) > 2 else None\n",
    "    }\n",
    "    list.append(obj)"
   ]
  },
  {
   "cell_type": "code",
   "execution_count": 23,
   "metadata": {
    "scrolled": true
   },
   "outputs": [
    {
     "data": {
      "text/plain": [
       "<pymongo.results.InsertManyResult at 0x7f74f0f30288>"
      ]
     },
     "execution_count": 23,
     "metadata": {},
     "output_type": "execute_result"
    }
   ],
   "source": [
    "repo.dropCollection('famous_people')\n",
    "repo.createCollection('famous_people')\n",
    "repo[writes[0]].insert_many(list)"
   ]
  },
  {
   "cell_type": "code",
   "execution_count": 24,
   "metadata": {},
   "outputs": [
    {
     "name": "stdout",
     "output_type": "stream",
     "text": [
      "{'_id': ObjectId('5ca3734299d98669f193b988'), 'complete': True}\n"
     ]
    },
    {
     "data": {
      "text/plain": [
       "230"
      ]
     },
     "execution_count": 24,
     "metadata": {},
     "output_type": "execute_result"
    }
   ],
   "source": [
    "repo[writes[0]].metadata({'complete': True})\n",
    "print(repo[writes[0]].metadata())\n",
    "repo[writes[0]].count_documents({})\n"
   ]
  },
  {
   "cell_type": "code",
   "execution_count": 25,
   "metadata": {},
   "outputs": [
    {
     "name": "stderr",
     "output_type": "stream",
     "text": [
      "/home/dongguho/anaconda3/lib/python3.7/site-packages/ipykernel_launcher.py:1: DeprecationWarning: Database.logout() is deprecated\n",
      "  \"\"\"Entry point for launching an IPython kernel.\n"
     ]
    },
    {
     "data": {
      "text/plain": [
       "{'start': datetime.datetime(2019, 4, 2, 22, 30, 17, 192069),\n",
       " 'end': datetime.datetime(2019, 4, 2, 22, 35, 52, 550110)}"
      ]
     },
     "execution_count": 25,
     "metadata": {},
     "output_type": "execute_result"
    }
   ],
   "source": [
    "repo.logout()\n",
    "endTime = datetime.datetime.now()\n",
    "{\"start\":startTime, \"end\":endTime}"
   ]
  },
  {
   "cell_type": "markdown",
   "metadata": {},
   "source": [
    "## prov"
   ]
  },
  {
   "cell_type": "code",
   "execution_count": 9,
   "metadata": {},
   "outputs": [
    {
     "name": "stderr",
     "output_type": "stream",
     "text": [
      "/anaconda3/lib/python3.6/site-packages/ipykernel_launcher.py:29: DeprecationWarning: Database.logout() is deprecated\n"
     ]
    },
    {
     "data": {
      "text/plain": [
       "<ProvDocument>"
      ]
     },
     "execution_count": 9,
     "metadata": {},
     "output_type": "execute_result"
    }
   ],
   "source": [
    "doc = prov.model.ProvDocument()\n",
    "startTime = None\n",
    "endTime = None\n",
    "client = dml.pymongo.MongoClient()\n",
    "repo = client.repo\n",
    "repo.authenticate(contributor, contributor)\n",
    "\n",
    "doc.add_namespace('alg', 'http://datamechanics.io/algorithm/') # The scripts are in <folder>#<filename> format.\n",
    "doc.add_namespace('dat', 'http://datamechanics.io/data/') # The data sets are in <user>#<collection> format.\n",
    "doc.add_namespace('ont', 'http://datamechanics.io/ontology#') # 'Extension', 'DataResource', 'DataSet', 'Retrieval', 'Query', or 'Computation'.\n",
    "doc.add_namespace('log', 'http://datamechanics.io/log/') # The event log.\n",
    "doc.add_namespace('bdp', 'https://www.50states.com/bio/mass.htm')\n",
    "\n",
    "this_script = doc.agent('alg:'+contributor+'#famous_people', {prov.model.PROV_TYPE:prov.model.PROV['SoftwareAgent'], 'ont:Extension':'py'})\n",
    "resource = doc.entity('bdp:wc8w-nujj', {'prov:label':'311, Service Requests', prov.model.PROV_TYPE:'ont:DataResource', 'ont:Extension':'json'})\n",
    "get_names = doc.activity('log:uuid'+str(uuid.uuid4()), startTime, endTime)\n",
    "doc.wasAssociatedWith(get_names, this_script)\n",
    "doc.usage(get_names, resource, startTime, None,\n",
    "    {prov.model.PROV_TYPE:'ont:Retrieval',\n",
    "    'ont:Computation':'Data cleaning'\n",
    "    }\n",
    ")\n",
    "\n",
    "fp = doc.entity('dat:'+contributor+'#famous_people', {prov.model.PROV_LABEL:'Famous People', prov.model.PROV_TYPE:'ont:DataSet'})\n",
    "doc.wasAttributedTo(fp, this_script)\n",
    "doc.wasGeneratedBy(fp, get_names, endTime)\n",
    "doc.wasDerivedFrom(fp, resource, get_names, get_names, get_names)\n",
    "\n",
    "repo.logout()\n",
    "doc"
   ]
  },
  {
   "cell_type": "code",
   "execution_count": 10,
   "metadata": {},
   "outputs": [
    {
     "name": "stdout",
     "output_type": "stream",
     "text": [
      "document\n",
      "  prefix alg <http://datamechanics.io/algorithm/>\n",
      "  prefix dat <http://datamechanics.io/data/>\n",
      "  prefix ont <http://datamechanics.io/ontology#>\n",
      "  prefix log <http://datamechanics.io/log/>\n",
      "  prefix bdp <https://www.50states.com/bio/mass.htm>\n",
      "  \n",
      "  agent(alg:mmao95_Dongyihe_weijiang_zhukk#famous_people, [prov:type='prov:SoftwareAgent', ont:Extension=\"py\"])\n",
      "  entity(bdp:wc8w-nujj, [prov:label=\"311, Service Requests\", prov:type=\"ont:DataResource\", ont:Extension=\"json\"])\n",
      "  activity(log:uuide2575f89-f744-4fe5-9902-d1d92e7034fb, -, -)\n",
      "  wasAssociatedWith(log:uuide2575f89-f744-4fe5-9902-d1d92e7034fb, alg:mmao95_Dongyihe_weijiang_zhukk#famous_people, -)\n",
      "  used(log:uuide2575f89-f744-4fe5-9902-d1d92e7034fb, bdp:wc8w-nujj, -, [prov:type=\"ont:Retrieval\", ont:Computation=\"Data cleaning\"])\n",
      "  entity(dat:mmao95_Dongyihe_weijiang_zhukk#famous_people, [prov:label=\"Famous People\", prov:type=\"ont:DataSet\"])\n",
      "  wasAttributedTo(dat:mmao95_Dongyihe_weijiang_zhukk#famous_people, alg:mmao95_Dongyihe_weijiang_zhukk#famous_people)\n",
      "  wasGeneratedBy(dat:mmao95_Dongyihe_weijiang_zhukk#famous_people, log:uuide2575f89-f744-4fe5-9902-d1d92e7034fb, -)\n",
      "  wasDerivedFrom(dat:mmao95_Dongyihe_weijiang_zhukk#famous_people, bdp:wc8w-nujj, log:uuide2575f89-f744-4fe5-9902-d1d92e7034fb, log:uuide2575f89-f744-4fe5-9902-d1d92e7034fb, log:uuide2575f89-f744-4fe5-9902-d1d92e7034fb)\n",
      "endDocument\n",
      "{\n",
      "    \"prefix\": {\n",
      "        \"alg\": \"http://datamechanics.io/algorithm/\",\n",
      "        \"dat\": \"http://datamechanics.io/data/\",\n",
      "        \"ont\": \"http://datamechanics.io/ontology#\",\n",
      "        \"log\": \"http://datamechanics.io/log/\",\n",
      "        \"bdp\": \"https://www.50states.com/bio/mass.htm\"\n",
      "    },\n",
      "    \"agent\": {\n",
      "        \"alg:mmao95_Dongyihe_weijiang_zhukk#famous_people\": {\n",
      "            \"prov:type\": {\n",
      "                \"$\": \"prov:SoftwareAgent\",\n",
      "                \"type\": \"prov:QUALIFIED_NAME\"\n",
      "            },\n",
      "            \"ont:Extension\": \"py\"\n",
      "        }\n",
      "    },\n",
      "    \"entity\": {\n",
      "        \"bdp:wc8w-nujj\": {\n",
      "            \"prov:label\": \"311, Service Requests\",\n",
      "            \"prov:type\": \"ont:DataResource\",\n",
      "            \"ont:Extension\": \"json\"\n",
      "        },\n",
      "        \"dat:mmao95_Dongyihe_weijiang_zhukk#famous_people\": {\n",
      "            \"prov:label\": \"Famous People\",\n",
      "            \"prov:type\": \"ont:DataSet\"\n",
      "        }\n",
      "    },\n",
      "    \"activity\": {\n",
      "        \"log:uuide2575f89-f744-4fe5-9902-d1d92e7034fb\": {}\n",
      "    },\n",
      "    \"wasAssociatedWith\": {\n",
      "        \"_:id1\": {\n",
      "            \"prov:activity\": \"log:uuide2575f89-f744-4fe5-9902-d1d92e7034fb\",\n",
      "            \"prov:agent\": \"alg:mmao95_Dongyihe_weijiang_zhukk#famous_people\"\n",
      "        }\n",
      "    },\n",
      "    \"used\": {\n",
      "        \"_:id2\": {\n",
      "            \"prov:activity\": \"log:uuide2575f89-f744-4fe5-9902-d1d92e7034fb\",\n",
      "            \"prov:entity\": \"bdp:wc8w-nujj\",\n",
      "            \"prov:type\": \"ont:Retrieval\",\n",
      "            \"ont:Computation\": \"Data cleaning\"\n",
      "        }\n",
      "    },\n",
      "    \"wasAttributedTo\": {\n",
      "        \"_:id3\": {\n",
      "            \"prov:entity\": \"dat:mmao95_Dongyihe_weijiang_zhukk#famous_people\",\n",
      "            \"prov:agent\": \"alg:mmao95_Dongyihe_weijiang_zhukk#famous_people\"\n",
      "        }\n",
      "    },\n",
      "    \"wasGeneratedBy\": {\n",
      "        \"_:id4\": {\n",
      "            \"prov:entity\": \"dat:mmao95_Dongyihe_weijiang_zhukk#famous_people\",\n",
      "            \"prov:activity\": \"log:uuide2575f89-f744-4fe5-9902-d1d92e7034fb\"\n",
      "        }\n",
      "    },\n",
      "    \"wasDerivedFrom\": {\n",
      "        \"_:id5\": {\n",
      "            \"prov:generatedEntity\": \"dat:mmao95_Dongyihe_weijiang_zhukk#famous_people\",\n",
      "            \"prov:usedEntity\": \"bdp:wc8w-nujj\",\n",
      "            \"prov:activity\": \"log:uuide2575f89-f744-4fe5-9902-d1d92e7034fb\",\n",
      "            \"prov:generation\": \"log:uuide2575f89-f744-4fe5-9902-d1d92e7034fb\",\n",
      "            \"prov:usage\": \"log:uuide2575f89-f744-4fe5-9902-d1d92e7034fb\"\n",
      "        }\n",
      "    }\n",
      "}\n"
     ]
    }
   ],
   "source": [
    "print(doc.get_provn())\n",
    "print(json.dumps(json.loads(doc.serialize()), indent=4))"
   ]
  },
  {
   "cell_type": "code",
   "execution_count": null,
   "metadata": {},
   "outputs": [],
   "source": []
  },
  {
   "cell_type": "code",
   "execution_count": null,
   "metadata": {},
   "outputs": [],
   "source": []
  }
 ],
 "metadata": {
  "kernelspec": {
   "display_name": "Python 3",
   "language": "python",
   "name": "python3"
  },
  "language_info": {
   "codemirror_mode": {
    "name": "ipython",
    "version": 3
   },
   "file_extension": ".py",
   "mimetype": "text/x-python",
   "name": "python",
   "nbconvert_exporter": "python",
   "pygments_lexer": "ipython3",
   "version": "3.7.0"
  }
 },
 "nbformat": 4,
 "nbformat_minor": 2
}
