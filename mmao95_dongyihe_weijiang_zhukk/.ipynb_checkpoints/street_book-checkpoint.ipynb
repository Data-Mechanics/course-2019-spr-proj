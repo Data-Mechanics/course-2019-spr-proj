{
 "cells": [
  {
   "cell_type": "code",
   "execution_count": 1,
   "metadata": {},
   "outputs": [],
   "source": [
    "import pandas as pd\n",
    "import requests\n",
    "import json\n",
    "import dml\n",
    "import prov.model\n",
    "import datetime\n",
    "import uuid\n",
    "import csv \n",
    "from io import StringIO\n",
    "import json\n",
    "import pymongo\n",
    "import math"
   ]
  },
  {
   "cell_type": "code",
   "execution_count": 2,
   "metadata": {},
   "outputs": [],
   "source": [
    "# define relational models\n",
    "def union(R, S):\n",
    "    return R + S\n",
    "\n",
    "def difference(R, S):\n",
    "    return [t for t in R if t not in S]\n",
    "\n",
    "def intersect(R, S):\n",
    "    return [t for t in R if t in S]\n",
    "\n",
    "def project(R, p):\n",
    "    return [p(t) for t in R]\n",
    "\n",
    "def select(R, s):\n",
    "    return [t for t in R if s(t)]\n",
    " \n",
    "def product(R, S):\n",
    "    return [(t,u) for t in R for u in S]\n",
    "\n",
    "def aggregate(R, f):\n",
    "    keys = {r[0] for r in R}\n",
    "    return [(key, f([v for (k,v) in R if k == key])) for key in keys]\n"
   ]
  },
  {
   "cell_type": "code",
   "execution_count": 3,
   "metadata": {},
   "outputs": [],
   "source": [
    "contributor = 'mmao95_Dongyihe_weijiang_zhukk'\n",
    "reads = []\n",
    "writes = [contributor + '.street_book']"
   ]
  },
  {
   "cell_type": "code",
   "execution_count": 4,
   "metadata": {},
   "outputs": [
    {
     "data": {
      "text/plain": [
       "True"
      ]
     },
     "execution_count": 4,
     "metadata": {},
     "output_type": "execute_result"
    }
   ],
   "source": [
    "startTime = datetime.datetime.now()\n",
    "\n",
    "# Set up the database connection.\n",
    "client = dml.pymongo.MongoClient()\n",
    "repo = client.repo\n",
    "repo.authenticate(contributor, contributor)"
   ]
  },
  {
   "cell_type": "code",
   "execution_count": 6,
   "metadata": {},
   "outputs": [
    {
     "name": "stdout",
     "output_type": "stream",
     "text": [
      "1\n"
     ]
    }
   ],
   "source": [
    "url = 'http://datamechanics.io/data/street-book.csv'\n",
    "doc = requests.get(url).text\n",
    "data_file = StringIO(doc)\n",
    "reader = csv.reader(data_file)\n",
    "\n",
    "Street_Book_list = []\n",
    "for row in reader:\n",
    "    Street_Book_list += [row]\n",
    "\n",
    "del Street_Book_list[0]\n",
    "\n",
    "StreetBook = [()]\n",
    "\n",
    "columnName = ['Branch Name', 'Address', 'City', 'Zipcode', 'Latitude', 'Longitude', 'Numbers']\n",
    "df = pd.DataFrame(columns = columnName, data = BSDZXYL)\n",
    "data = json.loads(df.to_json(orient=\"records\"))"
   ]
  },
  {
   "cell_type": "code",
   "execution_count": null,
   "metadata": {},
   "outputs": [],
   "source": []
  }
 ],
 "metadata": {
  "kernelspec": {
   "display_name": "Python 3",
   "language": "python",
   "name": "python3"
  },
  "language_info": {
   "codemirror_mode": {
    "name": "ipython",
    "version": 3
   },
   "file_extension": ".py",
   "mimetype": "text/x-python",
   "name": "python",
   "nbconvert_exporter": "python",
   "pygments_lexer": "ipython3",
   "version": "3.6.8"
  }
 },
 "nbformat": 4,
 "nbformat_minor": 2
}
