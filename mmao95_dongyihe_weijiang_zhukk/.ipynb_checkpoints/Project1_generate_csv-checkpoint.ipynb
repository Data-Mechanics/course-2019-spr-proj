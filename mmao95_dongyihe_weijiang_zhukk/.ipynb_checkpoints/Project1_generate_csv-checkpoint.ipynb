{
 "cells": [
  {
   "cell_type": "code",
   "execution_count": 1,
   "metadata": {},
   "outputs": [],
   "source": [
    "import pandas as pd\n",
    "import requests\n",
    "import json\n",
    "import dml\n",
    "import prov.model\n",
    "import datetime\n",
    "import uuid\n",
    "import csv \n",
    "from io import StringIO\n",
    "import json\n",
    "import pymongo\n",
    "import numpy as np"
   ]
  },
  {
   "cell_type": "code",
   "execution_count": 2,
   "metadata": {},
   "outputs": [],
   "source": [
    "contributor = 'mmao95_Dongyihe_weijiang_zhukk'\n",
    "reads = [contributor + '.boston_censustracts', contributor + '.boston_traffic', contributor + '.cau_landmark_merge', \n",
    "        contributor + '.colleges_and_universities', contributor + '.famous_people', contributor + '.filtered_famous_people_streets', \n",
    "        contributor + '.landmarks', contributor + '.public_libraries', contributor + '.street_book', \n",
    "        contributor + '.uber_data']\n"
   ]
  },
  {
   "cell_type": "code",
   "execution_count": 3,
   "metadata": {},
   "outputs": [
    {
     "data": {
      "text/plain": [
       "True"
      ]
     },
     "execution_count": 3,
     "metadata": {},
     "output_type": "execute_result"
    }
   ],
   "source": [
    "startTime = datetime.datetime.now()\n",
    "\n",
    "# Set up the database connection.\n",
    "client = dml.pymongo.MongoClient()\n",
    "repo = client.repo\n",
    "repo.authenticate(contributor, contributor)"
   ]
  },
  {
   "cell_type": "code",
   "execution_count": 4,
   "metadata": {},
   "outputs": [],
   "source": [
    "# get list from mongodb\n",
    "Boston_censustracts_list = list(repo[reads[0]].find())\n",
    "Boston_censustracts_df = pd.DataFrame(Boston_censustracts_list)\n",
    "Boston_censustracts_list = np.array(Boston_censustracts_df).tolist()\n",
    "Boston_censustracts_df.to_csv(\"/Users/zjallenjiang/Documents/GitHub/Partner_file/boston_censustracts.csv\", index = False)\n",
    "\n",
    "Boston_traffic_list = list(repo[reads[1]].find())\n",
    "Boston_traffic_df = pd.DataFrame(Boston_traffic_list)\n",
    "Boston_traffic_list = np.array(Boston_traffic_df).tolist()\n",
    "Boston_traffic_df.to_csv(\"/Users/zjallenjiang/Documents/GitHub/Partner_file/boston_traffic.csv\", index = False)\n",
    "\n",
    "CAU_landmark_merge_list = list(repo[reads[2]].find())\n",
    "CAU_landmark_merge_df = pd.DataFrame(CAU_landmark_merge_list)\n",
    "CAU_landmark_merge_list = np.array(CAU_landmark_merge_df).tolist()\n",
    "CAU_landmark_merge_df.to_csv(\"/Users/zjallenjiang/Documents/GitHub/Partner_file/cau_landmark_merge.csv\", index = False)\n",
    "\n",
    "CAU_list = list(repo[reads[3]].find())\n",
    "CAU_df = pd.DataFrame(CAU_list)\n",
    "CAU_list = np.array(CAU_df).tolist()\n",
    "CAU_df.to_csv(\"/Users/zjallenjiang/Documents/GitHub/Partner_file/cau.csv\", index = False)\n",
    "\n",
    "Famous_peopel_list = list(repo[reads[4]].find())\n",
    "Famous_peopel_df = pd.DataFrame(Famous_peopel_list)\n",
    "Famous_peopel_list = np.array(Famous_peopel_df).tolist()\n",
    "Famous_peopel_df.to_csv(\"/Users/zjallenjiang/Documents/GitHub/Partner_file/famous_people.csv\", index = False)\n",
    "\n",
    "Filtered_famous_people_streets_list = list(repo[reads[5]].find())\n",
    "Filtered_famous_people_streets_df = pd.DataFrame(Filtered_famous_people_streets_list)\n",
    "Filtered_famous_people_streets_list = np.array(Filtered_famous_people_streets_df).tolist()\n",
    "Filtered_famous_people_streets_df.to_csv(\"/Users/zjallenjiang/Documents/GitHub/Partner_file/filtered_famous_people_streets.csv\", index = False)\n",
    "\n",
    "LandMark_list = list(repo[reads[6]].find())\n",
    "LandMark_df = pd.DataFrame(LandMark_list)\n",
    "LandMark_list = np.array(LandMark_df).tolist()\n",
    "LandMark_df.to_csv(\"/Users/zjallenjiang/Documents/GitHub/Partner_file/landmark.csv\", index = False)\n",
    "\n",
    "Public_libraries_list = list(repo[reads[7]].find())\n",
    "Public_libraries_df = pd.DataFrame(Public_libraries_list)\n",
    "Public_libraries_list = np.array(Public_libraries_df).tolist()\n",
    "Public_libraries_df.to_csv(\"/Users/zjallenjiang/Documents/GitHub/Partner_file/public_libraries.csv\", index = False)\n",
    "\n",
    "Streetbook_list = list(repo[reads[8]].find())\n",
    "Streetbook_df = pd.DataFrame(Streetbook_list)\n",
    "Streetbook_list = np.array(Streetbook_df).tolist()\n",
    "Streetbook_df.to_csv(\"/Users/zjallenjiang/Documents/GitHub/Partner_file/streetbook.csv\", index = False)\n",
    "\n",
    "Uberdata_list = list(repo[reads[9]].find())\n",
    "Uberdata_df = pd.DataFrame(Uberdata_list)\n",
    "Uberdata_list = np.array(Uberdata_df).tolist()\n",
    "Uberdata_df.to_csv(\"/Users/zjallenjiang/Documents/GitHub/Partner_file/uberdata.csv\", index = False)\n",
    "\n"
   ]
  },
  {
   "cell_type": "code",
   "execution_count": 5,
   "metadata": {},
   "outputs": [
    {
     "name": "stderr",
     "output_type": "stream",
     "text": [
      "/anaconda3/lib/python3.6/site-packages/ipykernel_launcher.py:1: DeprecationWarning: Database.logout() is deprecated\n",
      "  \"\"\"Entry point for launching an IPython kernel.\n"
     ]
    },
    {
     "data": {
      "text/plain": [
       "{'start': datetime.datetime(2019, 4, 1, 15, 40, 54, 732709),\n",
       " 'end': datetime.datetime(2019, 4, 1, 15, 40, 58, 881338)}"
      ]
     },
     "execution_count": 5,
     "metadata": {},
     "output_type": "execute_result"
    }
   ],
   "source": [
    "repo.logout()\n",
    "endTime = datetime.datetime.now()\n",
    "{\"start\":startTime, \"end\":endTime}"
   ]
  },
  {
   "cell_type": "code",
   "execution_count": null,
   "metadata": {},
   "outputs": [],
   "source": []
  }
 ],
 "metadata": {
  "kernelspec": {
   "display_name": "Python 3",
   "language": "python",
   "name": "python3"
  },
  "language_info": {
   "codemirror_mode": {
    "name": "ipython",
    "version": 3
   },
   "file_extension": ".py",
   "mimetype": "text/x-python",
   "name": "python",
   "nbconvert_exporter": "python",
   "pygments_lexer": "ipython3",
   "version": "3.6.8"
  }
 },
 "nbformat": 4,
 "nbformat_minor": 2
}
